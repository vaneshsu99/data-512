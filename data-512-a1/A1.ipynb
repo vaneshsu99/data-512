{
 "cells": [
  {
   "cell_type": "markdown",
   "metadata": {},
   "source": [
    "# Data 512 A1\n",
    "\n",
    "This assignment involves the following:\n",
    "* Gathering data about monthly traffic on English Wikipedia from January 1, 2008 through August 30, 2020 through the Wikimedia Legacy Pagecounts API and Pageviews API\n",
    "* Processing the data into the proper format for analysis\n",
    "* Analyzing the data through a visualization"
   ]
  },
  {
   "cell_type": "markdown",
   "metadata": {},
   "source": [
    "# Step 1: Gathering the Data"
   ]
  },
  {
   "cell_type": "markdown",
   "metadata": {},
   "source": [
    "In order to make calls to the Wikimedia APIs, we first need to import the json and requests libraries."
   ]
  },
  {
   "cell_type": "code",
   "execution_count": 74,
   "metadata": {},
   "outputs": [],
   "source": [
    "import json\n",
    "import requests"
   ]
  },
  {
   "cell_type": "markdown",
   "metadata": {},
   "source": [
    "Here, we declare the request endpoints:\n",
    "* `endpoint_legacy`: Legacy Pagecounts API\n",
    "* `endpoint_pageviews`: Pageviews API."
   ]
  },
  {
   "cell_type": "code",
   "execution_count": 75,
   "metadata": {},
   "outputs": [],
   "source": [
    "# request endpoints\n",
    "endpoint_legacy = 'https://wikimedia.org/api/rest_v1/metrics/legacy/pagecounts/aggregate/{project}/{access-site}/{granularity}/{start}/{end}'\n",
    "\n",
    "endpoint_pageviews = 'https://wikimedia.org/api/rest_v1/metrics/pageviews/aggregate/{project}/{access}/{agent}/{granularity}/{start}/{end}'"
   ]
  },
  {
   "cell_type": "markdown",
   "metadata": {},
   "source": [
    "Below are the parameters for all the different API calls that need to be made:\n",
    "* `desktop_params_legacy`: desktop site visits with Legacy Pagecounts API\n",
    "* `mobile_params_legacy`: mobile site visits with Legacy Pagecounts API\n",
    "* `desktop_params_pageviews`: desktop site visits with Pageviews API\n",
    "* `mobile_params_pageviews`: mobile site visits with Pageviews API\n",
    "* `mobile_app_params_pageviews`: mobile app visits with Pageviews API\n",
    "\n",
    "For the Pageviews API, we set agent to \"user\" because we want to filter out traffic from crawlers or spiders. The Legacy Pagecount API did not allow this filtering."
   ]
  },
  {
   "cell_type": "code",
   "execution_count": 76,
   "metadata": {},
   "outputs": [],
   "source": [
    "# params for legacy pagecount\n",
    "desktop_params_legacy = {\"project\" : \"en.wikipedia.org\",\n",
    "                 \"access-site\" : \"desktop-site\",\n",
    "                 \"granularity\" : \"monthly\",\n",
    "                 \"start\" : \"2008010100\",\n",
    "                 \"end\" : \"2020090100\"\n",
    "                    }\n",
    "mobile_params_legacy = {\"project\" : \"en.wikipedia.org\",\n",
    "                 \"access-site\" : \"mobile-site\",\n",
    "                 \"granularity\" : \"monthly\",\n",
    "                 \"start\" : \"2008010100\",\n",
    "                 \"end\" : \"2020090100\"\n",
    "                    }\n",
    "\n",
    "# params for pageviews\n",
    "desktop_params_pageviews = {\"project\" : \"en.wikipedia.org\",\n",
    "                    \"access\" : \"desktop\",\n",
    "                    \"agent\" : \"user\",\n",
    "                    \"granularity\" : \"monthly\",\n",
    "                    \"start\" : \"2008010100\",\n",
    "                    \"end\" : '2020090100'\n",
    "                        }\n",
    "mobile_params_pageviews = {\"project\" : \"en.wikipedia.org\",\n",
    "                    \"access\" : \"mobile-web\",\n",
    "                    \"agent\" : \"user\",\n",
    "                    \"granularity\" : \"monthly\",\n",
    "                    \"start\" : \"2008010100\",\n",
    "                    \"end\" : '2020090100'\n",
    "                        }\n",
    "mobile_app_params_pageviews = {\"project\" : \"en.wikipedia.org\",\n",
    "                    \"access\" : \"mobile-app\",\n",
    "                    \"agent\" : \"user\",\n",
    "                    \"granularity\" : \"monthly\",\n",
    "                    \"start\" : \"2008010100\",\n",
    "                    \"end\" : '2020090100'\n",
    "                        }\n",
    "\n",
    "# header info\n",
    "headers = {\n",
    "    'User-Agent': 'https://github.com/vaneshsu99',\n",
    "    'From': 'vaneshsu@uw.edu'\n",
    "}"
   ]
  },
  {
   "cell_type": "markdown",
   "metadata": {},
   "source": [
    "`api_call` is a function that can be used to make an API call. It takes in two parameters and returns the API's response. The two parameters are:\n",
    "* `endpoint`: the endpoint for the API call\n",
    "* `parameters`: the parameters for the API call (see block above for example parameters)"
   ]
  },
  {
   "cell_type": "code",
   "execution_count": 77,
   "metadata": {},
   "outputs": [],
   "source": [
    "# function for api call\n",
    "# takes in endpoint and param dict\n",
    "def api_call(endpoint,parameters):\n",
    "    call = requests.get(endpoint.format(**parameters), headers=headers)\n",
    "    response = call.json()\n",
    "    \n",
    "    return response"
   ]
  },
  {
   "cell_type": "markdown",
   "metadata": {},
   "source": [
    "Next, we use the `api_call` function to make five different API calls to gather information about monthly views on the desktop and mobile sites from the Legacy Pagecounts API and desktop, mobile, and mobile app views from the Pageviews API."
   ]
  },
  {
   "cell_type": "code",
   "execution_count": 78,
   "metadata": {},
   "outputs": [],
   "source": [
    "# make all 5 api calls\n",
    "desktop_legacy = api_call(endpoint_legacy, desktop_params_legacy)\n",
    "mobile_legacy = api_call(endpoint_legacy, mobile_params_legacy)\n",
    "desktop_pageviews = api_call(endpoint_pageviews, desktop_params_pageviews)\n",
    "mobile_pageviews = api_call(endpoint_pageviews, mobile_params_pageviews)\n",
    "mobile_app_pageviews = api_call(endpoint_pageviews, mobile_app_params_pageviews)"
   ]
  },
  {
   "cell_type": "markdown",
   "metadata": {},
   "source": [
    "`save_json` is a function that can be used to save json data to files. It takes in two parameters:\n",
    "* `filename`: name of file\n",
    "* `data`: the json data"
   ]
  },
  {
   "cell_type": "code",
   "execution_count": 79,
   "metadata": {},
   "outputs": [],
   "source": [
    "# function for saving data to json files\n",
    "def save_json(filename, data):\n",
    "    with open(filename, 'w') as file:\n",
    "        json.dump(data, file)"
   ]
  },
  {
   "cell_type": "markdown",
   "metadata": {},
   "source": [
    "All five API json responses are saved to separate files with the naming convention `apiname_accesstype_firstmonth-lastmonth.json`"
   ]
  },
  {
   "cell_type": "code",
   "execution_count": 80,
   "metadata": {},
   "outputs": [],
   "source": [
    "# save data to json files\n",
    "save_json('pagecounts_desktop-site_200801-202008.json', desktop_legacy)\n",
    "save_json('pagecounts_mobile-site_200801-202008.json', mobile_legacy)\n",
    "save_json('pageviews_desktop_200801-202008.json', desktop_pageviews)\n",
    "save_json('pageviews_mobile-site_200801-202008.json', mobile_pageviews)\n",
    "save_json('pageviews_mobile-app_200801-202008.json', mobile_app_pageviews)"
   ]
  },
  {
   "cell_type": "markdown",
   "metadata": {},
   "source": [
    "# Step 2: Processing the Data"
   ]
  },
  {
   "cell_type": "markdown",
   "metadata": {},
   "source": [
    "Next we want to process the data and get it into a format we can work with to create our final visualization. The block below contains the names of the final columns we want."
   ]
  },
  {
   "cell_type": "code",
   "execution_count": 81,
   "metadata": {},
   "outputs": [],
   "source": [
    "# final columns we want\n",
    "columns = ['year', \n",
    "           'month', \n",
    "           'pagecount_all_views', \n",
    "           'pagecount_desktop_views', \n",
    "           'pagecount_mobile_views', \n",
    "           'pageview_all_views',\n",
    "           'pageview_desktop_views',\n",
    "           'pageview_mobile_views'\n",
    "          ]"
   ]
  },
  {
   "cell_type": "markdown",
   "metadata": {},
   "source": [
    "In order to process the data, we will be importing and using the pandas library."
   ]
  },
  {
   "cell_type": "code",
   "execution_count": 82,
   "metadata": {},
   "outputs": [],
   "source": [
    "import pandas as pd"
   ]
  },
  {
   "cell_type": "markdown",
   "metadata": {},
   "source": [
    "The first thing we want to do is combine the mobile-site and mobile-app Pageview data. In order to do that we will first convert the json data into pandas dataframes. This leaves us with a dataframe for the mobile-site pageviews data and a dataframe for the mobile-app pageviews data. Notice that we're specifically grabbing \"items\". This is because all the data is contained within an array called \"items\"."
   ]
  },
  {
   "cell_type": "code",
   "execution_count": 83,
   "metadata": {},
   "outputs": [],
   "source": [
    "# turn mobile pageview json to dataframes\n",
    "mobile_pageviews_df = pd.DataFrame(mobile_pageviews['items'])\n",
    "mobile_app_pageviews_df = pd.DataFrame(mobile_app_pageviews['items'])"
   ]
  },
  {
   "cell_type": "markdown",
   "metadata": {},
   "source": [
    "Next, we will sum the mobile-site and mobile-app pageviews and create a new dataframe with these combined views, their corresponding timestamps, and their access type - `pageview_mobile_views`. This value was chosen specifically because it is one of the columns we eventually want to have in our final dataset."
   ]
  },
  {
   "cell_type": "code",
   "execution_count": 84,
   "metadata": {},
   "outputs": [],
   "source": [
    "# sum mobile web pageviews and mobile app pageviews\n",
    "mobile_combined_pageviews = mobile_pageviews_df['views'] + mobile_app_pageviews_df['views']\n",
    "mobile_combined_pageviews_df = pd.DataFrame({'access': 'pageview_mobile_views', 'timestamp':mobile_pageviews_df['timestamp'], 'views':mobile_combined_pageviews})"
   ]
  },
  {
   "cell_type": "markdown",
   "metadata": {},
   "source": [
    "Now, we go through the rest of the json data, convert them to dataframes, and select only the relevant columns - timestamp and count/views.\n",
    "For each dataset, we will add in a column describing the access type like we did previously with the mobile pageviews data."
   ]
  },
  {
   "cell_type": "code",
   "execution_count": 85,
   "metadata": {},
   "outputs": [],
   "source": [
    "# desktop legacy, mobile legacy, desktop pageviews to dataframes\n",
    "# select only relevant columns\n",
    "# assign column with type of access (future column name for pivot later)\n",
    "desktop_legacy_df = pd.DataFrame(desktop_legacy['items'], columns=['timestamp', 'count']).assign(access='pagecount_desktop_views')\n",
    "desktop_legacy_df.rename(columns={'count': 'views'}, inplace=True)\n",
    "mobile_legacy_df = pd.DataFrame(mobile_legacy['items'], columns=['timestamp', 'count']).assign(access='pagecount_mobile_views')\n",
    "mobile_legacy_df.rename(columns={'count': 'views'}, inplace=True)\n",
    "desktop_pageviews_df = pd.DataFrame(desktop_pageviews['items'], columns=['timestamp', 'views']).assign(access='pageview_desktop_views')"
   ]
  },
  {
   "cell_type": "markdown",
   "metadata": {},
   "source": [
    "The separate dataframes are now concatenated into one dataframe containing data from all 5 API calls."
   ]
  },
  {
   "cell_type": "code",
   "execution_count": 86,
   "metadata": {},
   "outputs": [
    {
     "data": {
      "text/html": [
       "<div>\n",
       "<style scoped>\n",
       "    .dataframe tbody tr th:only-of-type {\n",
       "        vertical-align: middle;\n",
       "    }\n",
       "\n",
       "    .dataframe tbody tr th {\n",
       "        vertical-align: top;\n",
       "    }\n",
       "\n",
       "    .dataframe thead th {\n",
       "        text-align: right;\n",
       "    }\n",
       "</style>\n",
       "<table border=\"1\" class=\"dataframe\">\n",
       "  <thead>\n",
       "    <tr style=\"text-align: right;\">\n",
       "      <th></th>\n",
       "      <th>timestamp</th>\n",
       "      <th>views</th>\n",
       "      <th>access</th>\n",
       "    </tr>\n",
       "  </thead>\n",
       "  <tbody>\n",
       "    <tr>\n",
       "      <th>0</th>\n",
       "      <td>2008010100</td>\n",
       "      <td>4930902570</td>\n",
       "      <td>pagecount_desktop_views</td>\n",
       "    </tr>\n",
       "    <tr>\n",
       "      <th>1</th>\n",
       "      <td>2008020100</td>\n",
       "      <td>4818393763</td>\n",
       "      <td>pagecount_desktop_views</td>\n",
       "    </tr>\n",
       "    <tr>\n",
       "      <th>2</th>\n",
       "      <td>2008030100</td>\n",
       "      <td>4955405809</td>\n",
       "      <td>pagecount_desktop_views</td>\n",
       "    </tr>\n",
       "    <tr>\n",
       "      <th>3</th>\n",
       "      <td>2008040100</td>\n",
       "      <td>5159162183</td>\n",
       "      <td>pagecount_desktop_views</td>\n",
       "    </tr>\n",
       "    <tr>\n",
       "      <th>4</th>\n",
       "      <td>2008050100</td>\n",
       "      <td>5584691092</td>\n",
       "      <td>pagecount_desktop_views</td>\n",
       "    </tr>\n",
       "  </tbody>\n",
       "</table>\n",
       "</div>"
      ],
      "text/plain": [
       "    timestamp       views                   access\n",
       "0  2008010100  4930902570  pagecount_desktop_views\n",
       "1  2008020100  4818393763  pagecount_desktop_views\n",
       "2  2008030100  4955405809  pagecount_desktop_views\n",
       "3  2008040100  5159162183  pagecount_desktop_views\n",
       "4  2008050100  5584691092  pagecount_desktop_views"
      ]
     },
     "execution_count": 86,
     "metadata": {},
     "output_type": "execute_result"
    }
   ],
   "source": [
    "# concat dataframes from all sources\n",
    "wiki_traffic_df = pd.concat([desktop_legacy_df, mobile_legacy_df, desktop_pageviews_df, mobile_combined_pageviews_df])\n",
    "wiki_traffic_df.head()"
   ]
  },
  {
   "cell_type": "markdown",
   "metadata": {},
   "source": [
    "Next, we pivot the dataframe so the different access types become columns. The index is reset so the timestamp column is not used as an index, the NaN values are filled with 0's, and the name for the columns is removed because it's not necessary."
   ]
  },
  {
   "cell_type": "code",
   "execution_count": 87,
   "metadata": {},
   "outputs": [],
   "source": [
    "# pivot type of access to columns\n",
    "# fill NAs with 0s\n",
    "wiki_traffic_df_pivot = wiki_traffic_df.pivot_table(index='timestamp', columns='access', values='views').reset_index().fillna(0)\n",
    "wiki_traffic_df_pivot.columns.name=None"
   ]
  },
  {
   "cell_type": "markdown",
   "metadata": {},
   "source": [
    "The block below creates the `pagecount_all_views` and `pageview_all_views` columns by summing pagecount and pageview desktop and mobile views."
   ]
  },
  {
   "cell_type": "code",
   "execution_count": 88,
   "metadata": {},
   "outputs": [],
   "source": [
    "# sum total pagecount and pageviews to create two new columns with totals\n",
    "wiki_traffic_df_pivot = wiki_traffic_df_pivot.assign(\n",
    "    pagecount_all_views=wiki_traffic_df_pivot['pagecount_desktop_views']+wiki_traffic_df_pivot['pagecount_mobile_views'],\n",
    "    pageview_all_views=wiki_traffic_df_pivot['pageview_desktop_views']+wiki_traffic_df_pivot['pageview_mobile_views']\n",
    ")"
   ]
  },
  {
   "cell_type": "markdown",
   "metadata": {},
   "source": [
    "We can view the pivoted data structure with the code in the block below."
   ]
  },
  {
   "cell_type": "code",
   "execution_count": 89,
   "metadata": {},
   "outputs": [
    {
     "data": {
      "text/html": [
       "<div>\n",
       "<style scoped>\n",
       "    .dataframe tbody tr th:only-of-type {\n",
       "        vertical-align: middle;\n",
       "    }\n",
       "\n",
       "    .dataframe tbody tr th {\n",
       "        vertical-align: top;\n",
       "    }\n",
       "\n",
       "    .dataframe thead th {\n",
       "        text-align: right;\n",
       "    }\n",
       "</style>\n",
       "<table border=\"1\" class=\"dataframe\">\n",
       "  <thead>\n",
       "    <tr style=\"text-align: right;\">\n",
       "      <th></th>\n",
       "      <th>timestamp</th>\n",
       "      <th>pagecount_desktop_views</th>\n",
       "      <th>pagecount_mobile_views</th>\n",
       "      <th>pageview_desktop_views</th>\n",
       "      <th>pageview_mobile_views</th>\n",
       "      <th>pagecount_all_views</th>\n",
       "      <th>pageview_all_views</th>\n",
       "    </tr>\n",
       "  </thead>\n",
       "  <tbody>\n",
       "    <tr>\n",
       "      <th>0</th>\n",
       "      <td>2008010100</td>\n",
       "      <td>4.930903e+09</td>\n",
       "      <td>0.0</td>\n",
       "      <td>0.0</td>\n",
       "      <td>0.0</td>\n",
       "      <td>4.930903e+09</td>\n",
       "      <td>0.0</td>\n",
       "    </tr>\n",
       "    <tr>\n",
       "      <th>1</th>\n",
       "      <td>2008020100</td>\n",
       "      <td>4.818394e+09</td>\n",
       "      <td>0.0</td>\n",
       "      <td>0.0</td>\n",
       "      <td>0.0</td>\n",
       "      <td>4.818394e+09</td>\n",
       "      <td>0.0</td>\n",
       "    </tr>\n",
       "    <tr>\n",
       "      <th>2</th>\n",
       "      <td>2008030100</td>\n",
       "      <td>4.955406e+09</td>\n",
       "      <td>0.0</td>\n",
       "      <td>0.0</td>\n",
       "      <td>0.0</td>\n",
       "      <td>4.955406e+09</td>\n",
       "      <td>0.0</td>\n",
       "    </tr>\n",
       "    <tr>\n",
       "      <th>3</th>\n",
       "      <td>2008040100</td>\n",
       "      <td>5.159162e+09</td>\n",
       "      <td>0.0</td>\n",
       "      <td>0.0</td>\n",
       "      <td>0.0</td>\n",
       "      <td>5.159162e+09</td>\n",
       "      <td>0.0</td>\n",
       "    </tr>\n",
       "    <tr>\n",
       "      <th>4</th>\n",
       "      <td>2008050100</td>\n",
       "      <td>5.584691e+09</td>\n",
       "      <td>0.0</td>\n",
       "      <td>0.0</td>\n",
       "      <td>0.0</td>\n",
       "      <td>5.584691e+09</td>\n",
       "      <td>0.0</td>\n",
       "    </tr>\n",
       "  </tbody>\n",
       "</table>\n",
       "</div>"
      ],
      "text/plain": [
       "    timestamp  pagecount_desktop_views  pagecount_mobile_views  \\\n",
       "0  2008010100             4.930903e+09                     0.0   \n",
       "1  2008020100             4.818394e+09                     0.0   \n",
       "2  2008030100             4.955406e+09                     0.0   \n",
       "3  2008040100             5.159162e+09                     0.0   \n",
       "4  2008050100             5.584691e+09                     0.0   \n",
       "\n",
       "   pageview_desktop_views  pageview_mobile_views  pagecount_all_views  \\\n",
       "0                     0.0                    0.0         4.930903e+09   \n",
       "1                     0.0                    0.0         4.818394e+09   \n",
       "2                     0.0                    0.0         4.955406e+09   \n",
       "3                     0.0                    0.0         5.159162e+09   \n",
       "4                     0.0                    0.0         5.584691e+09   \n",
       "\n",
       "   pageview_all_views  \n",
       "0                 0.0  \n",
       "1                 0.0  \n",
       "2                 0.0  \n",
       "3                 0.0  \n",
       "4                 0.0  "
      ]
     },
     "execution_count": 89,
     "metadata": {},
     "output_type": "execute_result"
    }
   ],
   "source": [
    "# view pivoted data structure\n",
    "wiki_traffic_df_pivot.head()"
   ]
  },
  {
   "cell_type": "markdown",
   "metadata": {},
   "source": [
    "Next, we want to create the year and month columns. In order to do this, the `timestamp` values are split into year and month and assigned to their respective columns."
   ]
  },
  {
   "cell_type": "code",
   "execution_count": 90,
   "metadata": {},
   "outputs": [],
   "source": [
    "# split timestamp for year and month columns\n",
    "wiki_traffic_df_pivot = wiki_traffic_df_pivot.assign(year=wiki_traffic_df_pivot['timestamp'].str[0:4], month=wiki_traffic_df_pivot['timestamp'].str[4:6])"
   ]
  },
  {
   "cell_type": "markdown",
   "metadata": {},
   "source": [
    "Now, we put the columns in the correct order."
   ]
  },
  {
   "cell_type": "code",
   "execution_count": 91,
   "metadata": {},
   "outputs": [],
   "source": [
    "# reorder final columns\n",
    "wiki_traffic_final = wiki_traffic_df_pivot[columns]"
   ]
  },
  {
   "cell_type": "markdown",
   "metadata": {},
   "source": [
    "We can take a look at our final data structure using the clode in the block below."
   ]
  },
  {
   "cell_type": "code",
   "execution_count": 92,
   "metadata": {},
   "outputs": [
    {
     "data": {
      "text/html": [
       "<div>\n",
       "<style scoped>\n",
       "    .dataframe tbody tr th:only-of-type {\n",
       "        vertical-align: middle;\n",
       "    }\n",
       "\n",
       "    .dataframe tbody tr th {\n",
       "        vertical-align: top;\n",
       "    }\n",
       "\n",
       "    .dataframe thead th {\n",
       "        text-align: right;\n",
       "    }\n",
       "</style>\n",
       "<table border=\"1\" class=\"dataframe\">\n",
       "  <thead>\n",
       "    <tr style=\"text-align: right;\">\n",
       "      <th></th>\n",
       "      <th>year</th>\n",
       "      <th>month</th>\n",
       "      <th>pagecount_all_views</th>\n",
       "      <th>pagecount_desktop_views</th>\n",
       "      <th>pagecount_mobile_views</th>\n",
       "      <th>pageview_all_views</th>\n",
       "      <th>pageview_desktop_views</th>\n",
       "      <th>pageview_mobile_views</th>\n",
       "    </tr>\n",
       "  </thead>\n",
       "  <tbody>\n",
       "    <tr>\n",
       "      <th>0</th>\n",
       "      <td>2008</td>\n",
       "      <td>01</td>\n",
       "      <td>4.930903e+09</td>\n",
       "      <td>4.930903e+09</td>\n",
       "      <td>0.0</td>\n",
       "      <td>0.0</td>\n",
       "      <td>0.0</td>\n",
       "      <td>0.0</td>\n",
       "    </tr>\n",
       "    <tr>\n",
       "      <th>1</th>\n",
       "      <td>2008</td>\n",
       "      <td>02</td>\n",
       "      <td>4.818394e+09</td>\n",
       "      <td>4.818394e+09</td>\n",
       "      <td>0.0</td>\n",
       "      <td>0.0</td>\n",
       "      <td>0.0</td>\n",
       "      <td>0.0</td>\n",
       "    </tr>\n",
       "    <tr>\n",
       "      <th>2</th>\n",
       "      <td>2008</td>\n",
       "      <td>03</td>\n",
       "      <td>4.955406e+09</td>\n",
       "      <td>4.955406e+09</td>\n",
       "      <td>0.0</td>\n",
       "      <td>0.0</td>\n",
       "      <td>0.0</td>\n",
       "      <td>0.0</td>\n",
       "    </tr>\n",
       "    <tr>\n",
       "      <th>3</th>\n",
       "      <td>2008</td>\n",
       "      <td>04</td>\n",
       "      <td>5.159162e+09</td>\n",
       "      <td>5.159162e+09</td>\n",
       "      <td>0.0</td>\n",
       "      <td>0.0</td>\n",
       "      <td>0.0</td>\n",
       "      <td>0.0</td>\n",
       "    </tr>\n",
       "    <tr>\n",
       "      <th>4</th>\n",
       "      <td>2008</td>\n",
       "      <td>05</td>\n",
       "      <td>5.584691e+09</td>\n",
       "      <td>5.584691e+09</td>\n",
       "      <td>0.0</td>\n",
       "      <td>0.0</td>\n",
       "      <td>0.0</td>\n",
       "      <td>0.0</td>\n",
       "    </tr>\n",
       "  </tbody>\n",
       "</table>\n",
       "</div>"
      ],
      "text/plain": [
       "   year month  pagecount_all_views  pagecount_desktop_views  \\\n",
       "0  2008    01         4.930903e+09             4.930903e+09   \n",
       "1  2008    02         4.818394e+09             4.818394e+09   \n",
       "2  2008    03         4.955406e+09             4.955406e+09   \n",
       "3  2008    04         5.159162e+09             5.159162e+09   \n",
       "4  2008    05         5.584691e+09             5.584691e+09   \n",
       "\n",
       "   pagecount_mobile_views  pageview_all_views  pageview_desktop_views  \\\n",
       "0                     0.0                 0.0                     0.0   \n",
       "1                     0.0                 0.0                     0.0   \n",
       "2                     0.0                 0.0                     0.0   \n",
       "3                     0.0                 0.0                     0.0   \n",
       "4                     0.0                 0.0                     0.0   \n",
       "\n",
       "   pageview_mobile_views  \n",
       "0                    0.0  \n",
       "1                    0.0  \n",
       "2                    0.0  \n",
       "3                    0.0  \n",
       "4                    0.0  "
      ]
     },
     "execution_count": 92,
     "metadata": {},
     "output_type": "execute_result"
    }
   ],
   "source": [
    "# view final data structure\n",
    "wiki_traffic_final.head()"
   ]
  },
  {
   "cell_type": "markdown",
   "metadata": {},
   "source": [
    "Finally we save the data to a CSV file called `en-wikipedia_traffic_200712-202008.csv`"
   ]
  },
  {
   "cell_type": "code",
   "execution_count": 93,
   "metadata": {},
   "outputs": [],
   "source": [
    "# save to csv\n",
    "wiki_traffic_final.to_csv('en-wikipedia_traffic_200712-202008.csv', index=False)"
   ]
  },
  {
   "cell_type": "markdown",
   "metadata": {},
   "source": [
    "# Step 3: Analyze the Data"
   ]
  },
  {
   "cell_type": "markdown",
   "metadata": {},
   "source": [
    "The last step is to analyze the data through a visualization. The matplotlib and numpy libraries are imported to help with this. pyplot will help with the plotting and mdates will help with identifying the years we want to show on the x-axis."
   ]
  },
  {
   "cell_type": "code",
   "execution_count": 94,
   "metadata": {},
   "outputs": [],
   "source": [
    "import matplotlib.pyplot as plt\n",
    "import matplotlib.dates as mdates\n",
    "import numpy as np"
   ]
  },
  {
   "cell_type": "markdown",
   "metadata": {},
   "source": [
    "Instead of 0 values, we will replace those with NaNs so they don't show up on the graph.\n",
    "In order to make graphing the dates easier, we will add a date column that contains datetime values created from the year and month columns."
   ]
  },
  {
   "cell_type": "code",
   "execution_count": 95,
   "metadata": {},
   "outputs": [],
   "source": [
    "# replace 0s with NaN so they don't show up on graph\n",
    "wiki_traffic_final_nan = wiki_traffic_final.replace(0, np.nan)\n",
    "# add datetime for graph\n",
    "wiki_traffic_date = wiki_traffic_final_nan.assign(date=pd.to_datetime(wiki_traffic_final_nan[['year', 'month']].assign(day=1)))"
   ]
  },
  {
   "cell_type": "markdown",
   "metadata": {},
   "source": [
    "Now we will put the number of views on a scale that is easier to interepret by taking all the values dividing them by 1,000,000. We will still need the date column for our graph so we will append that onto our dataframe with the new values."
   ]
  },
  {
   "cell_type": "code",
   "execution_count": 96,
   "metadata": {},
   "outputs": [],
   "source": [
    "# scale views by dividing by 1,000,000\n",
    "wiki_traffic_scaled = wiki_traffic_date[wiki_traffic_date.columns[~wiki_traffic_date.columns.isin(['year', 'month', 'date'])]]/1000000\n",
    "wiki_traffic_scaled['date'] = wiki_traffic_date['date']"
   ]
  },
  {
   "cell_type": "markdown",
   "metadata": {},
   "source": [
    "Next, matplotlib is used to create a graph showing views across all the different sources from January 1, 2008 through August 30, 2020."
   ]
  },
  {
   "cell_type": "code",
   "execution_count": 102,
   "metadata": {},
   "outputs": [
    {
     "data": {
      "image/png": "[encoded data removed]",
      "text/plain": [
       "<Figure size 1080x288 with 1 Axes>"
      ]
     },
     "metadata": {
      "needs_background": "light"
     },
     "output_type": "display_data"
    }
   ],
   "source": [
    "# create visualization using matplotlib\n",
    "fig, ax = plt.subplots()\n",
    "fig.set_size_inches(15,4)\n",
    "year = mdates.YearLocator()\n",
    "ax.xaxis.set_major_locator(year)\n",
    "ax.plot('date', 'pagecount_desktop_views', 'g--', data=wiki_traffic_scaled)\n",
    "ax.plot('date', 'pagecount_mobile_views', 'b--', data=wiki_traffic_scaled)\n",
    "ax.plot('date', 'pagecount_all_views', 'k--', data=wiki_traffic_scaled)\n",
    "ax.plot('date', 'pageview_desktop_views', 'g', data=wiki_traffic_scaled)\n",
    "ax.plot('date', 'pageview_mobile_views', 'b', data=wiki_traffic_scaled)\n",
    "ax.plot('date', 'pageview_all_views', 'k', data=wiki_traffic_scaled)\n",
    "ax.grid(True)\n",
    "ax.set_xlim(wiki_traffic_scaled['date'][0], wiki_traffic_scaled['date'][len(wiki_traffic_scaled)-1])\n",
    "ax.set_xlabel('Year')\n",
    "ax.set_ylabel('Page Views')\n",
    "ax.set_title('Page Views on English Wikipedia (x 1,000,000)')\n",
    "plt.legend(['desktop views', 'mobile views', 'all views'])\n",
    "fig.text(0.5, -0.05, 'May 2015: a new pageview definition took effect, which eliminated all crawler traffic. Solid lines mark new definition.', c='r', horizontalalignment='center')\n",
    "fig.show()"
   ]
  },
  {
   "cell_type": "markdown",
   "metadata": {},
   "source": [
    "Finally, we save the visualization to a png file called `en-wikipedia_traffic_200712-202008_viz.png`"
   ]
  },
  {
   "cell_type": "code",
   "execution_count": 107,
   "metadata": {},
   "outputs": [],
   "source": [
    "# save viz to png\n",
    "fig.savefig('en-wikipedia_traffic_200712-202008_viz.png', bbox_inches='tight')"
   ]
  },
  {
   "cell_type": "code",
   "execution_count": null,
   "metadata": {},
   "outputs": [],
   "source": []
  }
 ],
 "metadata": {
  "kernelspec": {
   "display_name": "Python 3",
   "language": "python",
   "name": "python3"
  },
  "language_info": {
   "codemirror_mode": {
    "name": "ipython",
    "version": 3
   },
   "file_extension": ".py",
   "mimetype": "text/x-python",
   "name": "python",
   "nbconvert_exporter": "python",
   "pygments_lexer": "ipython3",
   "version": "3.7.4"
  }
 },
 "nbformat": 4,
 "nbformat_minor": 4
}
