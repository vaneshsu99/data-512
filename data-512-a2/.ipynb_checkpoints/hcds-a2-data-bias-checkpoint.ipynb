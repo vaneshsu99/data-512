{
 "cells": [
  {
   "cell_type": "markdown",
   "metadata": {},
   "source": [
    "# Data 512 A2: Bias in Data"
   ]
  },
  {
   "cell_type": "markdown",
   "metadata": {},
   "source": [
    "## Download Data\n",
    "\n",
    "All the datasets were downloaded from [Figshare](https://figshare.com/projects/Wikipedia_Talk/16731). There are 3 files each for toxicity, aggression, and personal attacks. The blocks below can be run to download all data."
   ]
  },
  {
   "cell_type": "code",
   "execution_count": null,
   "metadata": {},
   "outputs": [],
   "source": [
    "# Download toxicity annotations\n",
    "!wget https://ndownloader.figshare.com/files/7394539 -O toxicity_annotations.tsv"
   ]
  },
  {
   "cell_type": "code",
   "execution_count": null,
   "metadata": {},
   "outputs": [],
   "source": [
    "# Download toxicity annotated comments\n",
    "!wget https://ndownloader.figshare.com/files/7394542 -O toxicity_annotated_comments.tsv"
   ]
  },
  {
   "cell_type": "code",
   "execution_count": null,
   "metadata": {},
   "outputs": [],
   "source": [
    "# Download toxicity Crowdflower worker demographics\n",
    "!wget https://ndownloader.figshare.com/files/7640581 -O toxicity_worker_demographics.tsv"
   ]
  },
  {
   "cell_type": "code",
   "execution_count": null,
   "metadata": {},
   "outputs": [],
   "source": [
    "# Download aggression annotated comments\n",
    "!wget https://ndownloader.figshare.com/files/7038038 -O aggression_annotated_comments.tsv"
   ]
  },
  {
   "cell_type": "code",
   "execution_count": null,
   "metadata": {},
   "outputs": [],
   "source": [
    "# Download aggression annotations\n",
    "!wget https://ndownloader.figshare.com/files/7394506 -O aggression_annotations.tsv"
   ]
  },
  {
   "cell_type": "code",
   "execution_count": null,
   "metadata": {},
   "outputs": [],
   "source": [
    "# Download aggression Crowdflower worker demographics\n",
    "!wget https://ndownloader.figshare.com/files/7640644 -O aggression_worker_demographics.tsv"
   ]
  },
  {
   "cell_type": "code",
   "execution_count": null,
   "metadata": {},
   "outputs": [],
   "source": [
    "# Download personal attack annotated comments\n",
    "!wget https://ndownloader.figshare.com/files/7554634 -O attack_annotated_comments.tsv"
   ]
  },
  {
   "cell_type": "code",
   "execution_count": null,
   "metadata": {},
   "outputs": [],
   "source": [
    "# Download personal attack annotations\n",
    "!wget https://ndownloader.figshare.com/files/7554637 -O attack_annotations.tsv"
   ]
  },
  {
   "cell_type": "code",
   "execution_count": null,
   "metadata": {},
   "outputs": [],
   "source": [
    "# Download personal attack Crowdflower worker demographics\n",
    "!wget https://ndownloader.figshare.com/files/7640752 -O attack_worker_demographics.tsv"
   ]
  },
  {
   "cell_type": "markdown",
   "metadata": {},
   "source": [
    "## Step 1: Select and Perform Analysis"
   ]
  },
  {
   "cell_type": "markdown",
   "metadata": {},
   "source": [
    "### Load in Data"
   ]
  },
  {
   "cell_type": "code",
   "execution_count": 1,
   "metadata": {},
   "outputs": [],
   "source": [
    "# Import libraries\n",
    "import pandas as pd\n",
    "import matplotlib.pyplot as plt\n",
    "import seaborn as sns"
   ]
  },
  {
   "cell_type": "markdown",
   "metadata": {},
   "source": [
    "First, I want to import all the toxicity datasets."
   ]
  },
  {
   "cell_type": "code",
   "execution_count": 2,
   "metadata": {},
   "outputs": [],
   "source": [
    "toxicity_annotations = pd.read_csv(\"toxicity/toxicity_annotations.tsv\", delimiter=\"\\t\")\n",
    "toxicity_annotated_comments = pd.read_csv(\"toxicity/toxicity_annotated_comments.tsv\", delimiter=\"\\t\")\n",
    "toxicity_worker_demographics = pd.read_csv(\"toxicity/toxicity_worker_demographics.tsv\", delimiter=\"\\t\")"
   ]
  },
  {
   "cell_type": "markdown",
   "metadata": {},
   "source": [
    "In the next 3 code blocks I want to take a look at what is in each of the toxicity datasets, starting with the annotations dataset. [Wikipedia](https://meta.wikimedia.org/wiki/Research:Detox/Data_Release) describes the content in each dataset.\n",
    "\n",
    "__toxicity_annotations:__\n",
    "- `rev_id`: revision id of the edit that added the comment to a talk page\n",
    "- `worker_id`: Crowdflower worker id\n",
    "- `toxicity_score`: score ranging from toxic (-2), to neutral (0), to very healthy (2)\n",
    "- `toxicity`: whether or not the worker thought the comment is toxic. The value is 1 if the worker thought the was comment toxic and 0 if the worker thought the comment was neutral or healthy."
   ]
  },
  {
   "cell_type": "code",
   "execution_count": 3,
   "metadata": {},
   "outputs": [
    {
     "data": {
      "text/html": [
       "<div>\n",
       "<style scoped>\n",
       "    .dataframe tbody tr th:only-of-type {\n",
       "        vertical-align: middle;\n",
       "    }\n",
       "\n",
       "    .dataframe tbody tr th {\n",
       "        vertical-align: top;\n",
       "    }\n",
       "\n",
       "    .dataframe thead th {\n",
       "        text-align: right;\n",
       "    }\n",
       "</style>\n",
       "<table border=\"1\" class=\"dataframe\">\n",
       "  <thead>\n",
       "    <tr style=\"text-align: right;\">\n",
       "      <th></th>\n",
       "      <th>rev_id</th>\n",
       "      <th>worker_id</th>\n",
       "      <th>toxicity</th>\n",
       "      <th>toxicity_score</th>\n",
       "    </tr>\n",
       "  </thead>\n",
       "  <tbody>\n",
       "    <tr>\n",
       "      <th>0</th>\n",
       "      <td>2232.0</td>\n",
       "      <td>723</td>\n",
       "      <td>0</td>\n",
       "      <td>0.0</td>\n",
       "    </tr>\n",
       "    <tr>\n",
       "      <th>1</th>\n",
       "      <td>2232.0</td>\n",
       "      <td>4000</td>\n",
       "      <td>0</td>\n",
       "      <td>0.0</td>\n",
       "    </tr>\n",
       "    <tr>\n",
       "      <th>2</th>\n",
       "      <td>2232.0</td>\n",
       "      <td>3989</td>\n",
       "      <td>0</td>\n",
       "      <td>1.0</td>\n",
       "    </tr>\n",
       "    <tr>\n",
       "      <th>3</th>\n",
       "      <td>2232.0</td>\n",
       "      <td>3341</td>\n",
       "      <td>0</td>\n",
       "      <td>0.0</td>\n",
       "    </tr>\n",
       "    <tr>\n",
       "      <th>4</th>\n",
       "      <td>2232.0</td>\n",
       "      <td>1574</td>\n",
       "      <td>0</td>\n",
       "      <td>1.0</td>\n",
       "    </tr>\n",
       "  </tbody>\n",
       "</table>\n",
       "</div>"
      ],
      "text/plain": [
       "   rev_id  worker_id  toxicity  toxicity_score\n",
       "0  2232.0        723         0             0.0\n",
       "1  2232.0       4000         0             0.0\n",
       "2  2232.0       3989         0             1.0\n",
       "3  2232.0       3341         0             0.0\n",
       "4  2232.0       1574         0             1.0"
      ]
     },
     "execution_count": 3,
     "metadata": {},
     "output_type": "execute_result"
    }
   ],
   "source": [
    "toxicity_annotations.head()"
   ]
  },
  {
   "cell_type": "markdown",
   "metadata": {},
   "source": [
    "__toxicity_annotated_comments__:\n",
    "- `rev_id`: revision id of the edit that added the comment to a talk page\n",
    "- `comment`: the comment\n",
    "- `year`: year the comment was posted\n",
    "- `logged_in`: whether or not the user who made the comment was logged in\n",
    "- `ns`: namespace of the discussion page the comment was posted in\n",
    "- `sample`: whether the comment came from random sampling of all comments or whether it came from random sampling of the 5 comments around a block\n",
    "- `split`: train, dev or test dataset"
   ]
  },
  {
   "cell_type": "code",
   "execution_count": 4,
   "metadata": {},
   "outputs": [
    {
     "data": {
      "text/html": [
       "<div>\n",
       "<style scoped>\n",
       "    .dataframe tbody tr th:only-of-type {\n",
       "        vertical-align: middle;\n",
       "    }\n",
       "\n",
       "    .dataframe tbody tr th {\n",
       "        vertical-align: top;\n",
       "    }\n",
       "\n",
       "    .dataframe thead th {\n",
       "        text-align: right;\n",
       "    }\n",
       "</style>\n",
       "<table border=\"1\" class=\"dataframe\">\n",
       "  <thead>\n",
       "    <tr style=\"text-align: right;\">\n",
       "      <th></th>\n",
       "      <th>rev_id</th>\n",
       "      <th>comment</th>\n",
       "      <th>year</th>\n",
       "      <th>logged_in</th>\n",
       "      <th>ns</th>\n",
       "      <th>sample</th>\n",
       "      <th>split</th>\n",
       "    </tr>\n",
       "  </thead>\n",
       "  <tbody>\n",
       "    <tr>\n",
       "      <th>0</th>\n",
       "      <td>2232.0</td>\n",
       "      <td>This:NEWLINE_TOKEN:One can make an analogy in ...</td>\n",
       "      <td>2002</td>\n",
       "      <td>True</td>\n",
       "      <td>article</td>\n",
       "      <td>random</td>\n",
       "      <td>train</td>\n",
       "    </tr>\n",
       "    <tr>\n",
       "      <th>1</th>\n",
       "      <td>4216.0</td>\n",
       "      <td>`NEWLINE_TOKENNEWLINE_TOKEN:Clarification for ...</td>\n",
       "      <td>2002</td>\n",
       "      <td>True</td>\n",
       "      <td>user</td>\n",
       "      <td>random</td>\n",
       "      <td>train</td>\n",
       "    </tr>\n",
       "    <tr>\n",
       "      <th>2</th>\n",
       "      <td>8953.0</td>\n",
       "      <td>Elected or Electoral? JHK</td>\n",
       "      <td>2002</td>\n",
       "      <td>False</td>\n",
       "      <td>article</td>\n",
       "      <td>random</td>\n",
       "      <td>test</td>\n",
       "    </tr>\n",
       "    <tr>\n",
       "      <th>3</th>\n",
       "      <td>26547.0</td>\n",
       "      <td>`This is such a fun entry.   DevotchkaNEWLINE_...</td>\n",
       "      <td>2002</td>\n",
       "      <td>True</td>\n",
       "      <td>article</td>\n",
       "      <td>random</td>\n",
       "      <td>train</td>\n",
       "    </tr>\n",
       "    <tr>\n",
       "      <th>4</th>\n",
       "      <td>28959.0</td>\n",
       "      <td>Please relate the ozone hole to increases in c...</td>\n",
       "      <td>2002</td>\n",
       "      <td>True</td>\n",
       "      <td>article</td>\n",
       "      <td>random</td>\n",
       "      <td>test</td>\n",
       "    </tr>\n",
       "  </tbody>\n",
       "</table>\n",
       "</div>"
      ],
      "text/plain": [
       "    rev_id                                            comment  year  \\\n",
       "0   2232.0  This:NEWLINE_TOKEN:One can make an analogy in ...  2002   \n",
       "1   4216.0  `NEWLINE_TOKENNEWLINE_TOKEN:Clarification for ...  2002   \n",
       "2   8953.0                          Elected or Electoral? JHK  2002   \n",
       "3  26547.0  `This is such a fun entry.   DevotchkaNEWLINE_...  2002   \n",
       "4  28959.0  Please relate the ozone hole to increases in c...  2002   \n",
       "\n",
       "   logged_in       ns  sample  split  \n",
       "0       True  article  random  train  \n",
       "1       True     user  random  train  \n",
       "2      False  article  random   test  \n",
       "3       True  article  random  train  \n",
       "4       True  article  random   test  "
      ]
     },
     "execution_count": 4,
     "metadata": {},
     "output_type": "execute_result"
    }
   ],
   "source": [
    "toxicity_annotated_comments.head()"
   ]
  },
  {
   "cell_type": "markdown",
   "metadata": {},
   "source": [
    "__toxicity_worker_demographics__:\n",
    "- `worker_id`: Crowdflower worker id\n",
    "- `gender`: worker gender\n",
    "- `english_first_language`: whether or not English is the worker's first language\n",
    "- `age_group`: age group of the worker ('Under 18', '18-30', '30-45', '45-60', 'Over 60')\n",
    "- `education`: highest education level obtained by the worker ('none', 'some', 'hs', 'bachelors', 'masters', 'doctorate', 'professional')"
   ]
  },
  {
   "cell_type": "code",
   "execution_count": 5,
   "metadata": {},
   "outputs": [
    {
     "data": {
      "text/html": [
       "<div>\n",
       "<style scoped>\n",
       "    .dataframe tbody tr th:only-of-type {\n",
       "        vertical-align: middle;\n",
       "    }\n",
       "\n",
       "    .dataframe tbody tr th {\n",
       "        vertical-align: top;\n",
       "    }\n",
       "\n",
       "    .dataframe thead th {\n",
       "        text-align: right;\n",
       "    }\n",
       "</style>\n",
       "<table border=\"1\" class=\"dataframe\">\n",
       "  <thead>\n",
       "    <tr style=\"text-align: right;\">\n",
       "      <th></th>\n",
       "      <th>worker_id</th>\n",
       "      <th>gender</th>\n",
       "      <th>english_first_language</th>\n",
       "      <th>age_group</th>\n",
       "      <th>education</th>\n",
       "    </tr>\n",
       "  </thead>\n",
       "  <tbody>\n",
       "    <tr>\n",
       "      <th>0</th>\n",
       "      <td>85</td>\n",
       "      <td>female</td>\n",
       "      <td>0</td>\n",
       "      <td>18-30</td>\n",
       "      <td>bachelors</td>\n",
       "    </tr>\n",
       "    <tr>\n",
       "      <th>1</th>\n",
       "      <td>1617</td>\n",
       "      <td>female</td>\n",
       "      <td>0</td>\n",
       "      <td>45-60</td>\n",
       "      <td>bachelors</td>\n",
       "    </tr>\n",
       "    <tr>\n",
       "      <th>2</th>\n",
       "      <td>1394</td>\n",
       "      <td>female</td>\n",
       "      <td>0</td>\n",
       "      <td>NaN</td>\n",
       "      <td>bachelors</td>\n",
       "    </tr>\n",
       "    <tr>\n",
       "      <th>3</th>\n",
       "      <td>311</td>\n",
       "      <td>male</td>\n",
       "      <td>0</td>\n",
       "      <td>30-45</td>\n",
       "      <td>bachelors</td>\n",
       "    </tr>\n",
       "    <tr>\n",
       "      <th>4</th>\n",
       "      <td>1980</td>\n",
       "      <td>male</td>\n",
       "      <td>0</td>\n",
       "      <td>45-60</td>\n",
       "      <td>masters</td>\n",
       "    </tr>\n",
       "  </tbody>\n",
       "</table>\n",
       "</div>"
      ],
      "text/plain": [
       "   worker_id  gender  english_first_language age_group  education\n",
       "0         85  female                       0     18-30  bachelors\n",
       "1       1617  female                       0     45-60  bachelors\n",
       "2       1394  female                       0       NaN  bachelors\n",
       "3        311    male                       0     30-45  bachelors\n",
       "4       1980    male                       0     45-60    masters"
      ]
     },
     "execution_count": 5,
     "metadata": {},
     "output_type": "execute_result"
    }
   ],
   "source": [
    "toxicity_worker_demographics.head()"
   ]
  },
  {
   "cell_type": "markdown",
   "metadata": {},
   "source": [
    "Next, I want to load in all the aggression datasets."
   ]
  },
  {
   "cell_type": "code",
   "execution_count": 3,
   "metadata": {},
   "outputs": [],
   "source": [
    "aggression_annotations = pd.read_csv(\"aggression/aggression_annotations.tsv\", delimiter=\"\\t\")\n",
    "aggression_annotated_comments = pd.read_csv(\"aggression/aggression_annotated_comments.tsv\", delimiter=\"\\t\")\n",
    "aggression_worker_demographics = pd.read_csv(\"aggression/aggression_worker_demographics.tsv\", delimiter=\"\\t\")"
   ]
  },
  {
   "cell_type": "markdown",
   "metadata": {},
   "source": [
    "__aggression_annotations__:\n",
    "- `rev_id`: revision id of the edit that added the comment to a talk page\n",
    "- `worker_id`: Crowdflower worker id\n",
    "- `aggression_score`: score ranging from very aggressive (-2), to neutral (0), to very friendly (2)\n",
    "- `aggression`: whether or not the worker thought the comment was aggressive. The value is 1 if the worker considered the comment aggressive and 0 if the worker considered the comment neutral or friendly."
   ]
  },
  {
   "cell_type": "code",
   "execution_count": 7,
   "metadata": {},
   "outputs": [
    {
     "data": {
      "text/html": [
       "<div>\n",
       "<style scoped>\n",
       "    .dataframe tbody tr th:only-of-type {\n",
       "        vertical-align: middle;\n",
       "    }\n",
       "\n",
       "    .dataframe tbody tr th {\n",
       "        vertical-align: top;\n",
       "    }\n",
       "\n",
       "    .dataframe thead th {\n",
       "        text-align: right;\n",
       "    }\n",
       "</style>\n",
       "<table border=\"1\" class=\"dataframe\">\n",
       "  <thead>\n",
       "    <tr style=\"text-align: right;\">\n",
       "      <th></th>\n",
       "      <th>rev_id</th>\n",
       "      <th>worker_id</th>\n",
       "      <th>aggression</th>\n",
       "      <th>aggression_score</th>\n",
       "    </tr>\n",
       "  </thead>\n",
       "  <tbody>\n",
       "    <tr>\n",
       "      <th>0</th>\n",
       "      <td>37675</td>\n",
       "      <td>1362</td>\n",
       "      <td>1.0</td>\n",
       "      <td>-1.0</td>\n",
       "    </tr>\n",
       "    <tr>\n",
       "      <th>1</th>\n",
       "      <td>37675</td>\n",
       "      <td>2408</td>\n",
       "      <td>0.0</td>\n",
       "      <td>1.0</td>\n",
       "    </tr>\n",
       "    <tr>\n",
       "      <th>2</th>\n",
       "      <td>37675</td>\n",
       "      <td>1493</td>\n",
       "      <td>0.0</td>\n",
       "      <td>0.0</td>\n",
       "    </tr>\n",
       "    <tr>\n",
       "      <th>3</th>\n",
       "      <td>37675</td>\n",
       "      <td>1439</td>\n",
       "      <td>0.0</td>\n",
       "      <td>0.0</td>\n",
       "    </tr>\n",
       "    <tr>\n",
       "      <th>4</th>\n",
       "      <td>37675</td>\n",
       "      <td>170</td>\n",
       "      <td>0.0</td>\n",
       "      <td>0.0</td>\n",
       "    </tr>\n",
       "  </tbody>\n",
       "</table>\n",
       "</div>"
      ],
      "text/plain": [
       "   rev_id  worker_id  aggression  aggression_score\n",
       "0   37675       1362         1.0              -1.0\n",
       "1   37675       2408         0.0               1.0\n",
       "2   37675       1493         0.0               0.0\n",
       "3   37675       1439         0.0               0.0\n",
       "4   37675        170         0.0               0.0"
      ]
     },
     "execution_count": 7,
     "metadata": {},
     "output_type": "execute_result"
    }
   ],
   "source": [
    "aggression_annotations.head()"
   ]
  },
  {
   "cell_type": "markdown",
   "metadata": {},
   "source": [
    "__aggression_annotated_comments__:\n",
    "- `rev_id`: revision id of the edit that added the comment to a talk page\n",
    "- `comment`: the comment\n",
    "- `year`: year the comment was posted\n",
    "- `logged_in`: whether or not the user who made the comment was logged in\n",
    "- `ns`: namespace of the discussion page the comment was posted in\n",
    "- `sample`: whether the comment came from random sampling of all comments or whether it came from random sampling of the 5 comments around a block\n",
    "- `split`: train, dev or test dataset"
   ]
  },
  {
   "cell_type": "code",
   "execution_count": 15,
   "metadata": {},
   "outputs": [
    {
     "data": {
      "text/html": [
       "<div>\n",
       "<style scoped>\n",
       "    .dataframe tbody tr th:only-of-type {\n",
       "        vertical-align: middle;\n",
       "    }\n",
       "\n",
       "    .dataframe tbody tr th {\n",
       "        vertical-align: top;\n",
       "    }\n",
       "\n",
       "    .dataframe thead th {\n",
       "        text-align: right;\n",
       "    }\n",
       "</style>\n",
       "<table border=\"1\" class=\"dataframe\">\n",
       "  <thead>\n",
       "    <tr style=\"text-align: right;\">\n",
       "      <th></th>\n",
       "      <th>rev_id</th>\n",
       "      <th>comment</th>\n",
       "      <th>year</th>\n",
       "      <th>logged_in</th>\n",
       "      <th>ns</th>\n",
       "      <th>sample</th>\n",
       "      <th>split</th>\n",
       "    </tr>\n",
       "  </thead>\n",
       "  <tbody>\n",
       "    <tr>\n",
       "      <th>0</th>\n",
       "      <td>37675</td>\n",
       "      <td>`-NEWLINE_TOKENThis is not ``creative``.  Thos...</td>\n",
       "      <td>2002</td>\n",
       "      <td>True</td>\n",
       "      <td>article</td>\n",
       "      <td>random</td>\n",
       "      <td>train</td>\n",
       "    </tr>\n",
       "    <tr>\n",
       "      <th>1</th>\n",
       "      <td>44816</td>\n",
       "      <td>`NEWLINE_TOKENNEWLINE_TOKEN:: the term ``stand...</td>\n",
       "      <td>2002</td>\n",
       "      <td>True</td>\n",
       "      <td>article</td>\n",
       "      <td>random</td>\n",
       "      <td>train</td>\n",
       "    </tr>\n",
       "    <tr>\n",
       "      <th>2</th>\n",
       "      <td>49851</td>\n",
       "      <td>NEWLINE_TOKENNEWLINE_TOKENTrue or false, the s...</td>\n",
       "      <td>2002</td>\n",
       "      <td>True</td>\n",
       "      <td>article</td>\n",
       "      <td>random</td>\n",
       "      <td>train</td>\n",
       "    </tr>\n",
       "    <tr>\n",
       "      <th>3</th>\n",
       "      <td>89320</td>\n",
       "      <td>Next, maybe you could work on being less cond...</td>\n",
       "      <td>2002</td>\n",
       "      <td>True</td>\n",
       "      <td>article</td>\n",
       "      <td>random</td>\n",
       "      <td>dev</td>\n",
       "    </tr>\n",
       "    <tr>\n",
       "      <th>4</th>\n",
       "      <td>93890</td>\n",
       "      <td>This page will need disambiguation.</td>\n",
       "      <td>2002</td>\n",
       "      <td>True</td>\n",
       "      <td>article</td>\n",
       "      <td>random</td>\n",
       "      <td>train</td>\n",
       "    </tr>\n",
       "  </tbody>\n",
       "</table>\n",
       "</div>"
      ],
      "text/plain": [
       "   rev_id                                            comment  year  logged_in  \\\n",
       "0   37675  `-NEWLINE_TOKENThis is not ``creative``.  Thos...  2002       True   \n",
       "1   44816  `NEWLINE_TOKENNEWLINE_TOKEN:: the term ``stand...  2002       True   \n",
       "2   49851  NEWLINE_TOKENNEWLINE_TOKENTrue or false, the s...  2002       True   \n",
       "3   89320   Next, maybe you could work on being less cond...  2002       True   \n",
       "4   93890               This page will need disambiguation.   2002       True   \n",
       "\n",
       "        ns  sample  split  \n",
       "0  article  random  train  \n",
       "1  article  random  train  \n",
       "2  article  random  train  \n",
       "3  article  random    dev  \n",
       "4  article  random  train  "
      ]
     },
     "execution_count": 15,
     "metadata": {},
     "output_type": "execute_result"
    }
   ],
   "source": [
    "aggression_annotated_comments.head()"
   ]
  },
  {
   "cell_type": "markdown",
   "metadata": {},
   "source": [
    "__aggression_worker_demographics__:\n",
    "- `worker_id`: Crowdflower worker id\n",
    "- `gender`: worker gender\n",
    "- `english_first_language`: whether or not English is the worker's first language\n",
    "- `age_group`: age group of the worker ('Under 18', '18-30', '30-45', '45-60', 'Over 60')\n",
    "- `education`: highest education level obtained by the worker ('none', 'some', 'hs', 'bachelors', 'masters', 'doctorate', 'professional')"
   ]
  },
  {
   "cell_type": "code",
   "execution_count": 9,
   "metadata": {},
   "outputs": [
    {
     "data": {
      "text/html": [
       "<div>\n",
       "<style scoped>\n",
       "    .dataframe tbody tr th:only-of-type {\n",
       "        vertical-align: middle;\n",
       "    }\n",
       "\n",
       "    .dataframe tbody tr th {\n",
       "        vertical-align: top;\n",
       "    }\n",
       "\n",
       "    .dataframe thead th {\n",
       "        text-align: right;\n",
       "    }\n",
       "</style>\n",
       "<table border=\"1\" class=\"dataframe\">\n",
       "  <thead>\n",
       "    <tr style=\"text-align: right;\">\n",
       "      <th></th>\n",
       "      <th>worker_id</th>\n",
       "      <th>gender</th>\n",
       "      <th>english_first_language</th>\n",
       "      <th>age_group</th>\n",
       "      <th>education</th>\n",
       "    </tr>\n",
       "  </thead>\n",
       "  <tbody>\n",
       "    <tr>\n",
       "      <th>0</th>\n",
       "      <td>833</td>\n",
       "      <td>female</td>\n",
       "      <td>0</td>\n",
       "      <td>45-60</td>\n",
       "      <td>bachelors</td>\n",
       "    </tr>\n",
       "    <tr>\n",
       "      <th>1</th>\n",
       "      <td>1072</td>\n",
       "      <td>male</td>\n",
       "      <td>0</td>\n",
       "      <td>30-45</td>\n",
       "      <td>bachelors</td>\n",
       "    </tr>\n",
       "    <tr>\n",
       "      <th>2</th>\n",
       "      <td>872</td>\n",
       "      <td>male</td>\n",
       "      <td>0</td>\n",
       "      <td>18-30</td>\n",
       "      <td>hs</td>\n",
       "    </tr>\n",
       "    <tr>\n",
       "      <th>3</th>\n",
       "      <td>2116</td>\n",
       "      <td>male</td>\n",
       "      <td>0</td>\n",
       "      <td>30-45</td>\n",
       "      <td>professional</td>\n",
       "    </tr>\n",
       "    <tr>\n",
       "      <th>4</th>\n",
       "      <td>453</td>\n",
       "      <td>male</td>\n",
       "      <td>0</td>\n",
       "      <td>30-45</td>\n",
       "      <td>hs</td>\n",
       "    </tr>\n",
       "  </tbody>\n",
       "</table>\n",
       "</div>"
      ],
      "text/plain": [
       "   worker_id  gender  english_first_language age_group     education\n",
       "0        833  female                       0     45-60     bachelors\n",
       "1       1072    male                       0     30-45     bachelors\n",
       "2        872    male                       0     18-30            hs\n",
       "3       2116    male                       0     30-45  professional\n",
       "4        453    male                       0     30-45            hs"
      ]
     },
     "execution_count": 9,
     "metadata": {},
     "output_type": "execute_result"
    }
   ],
   "source": [
    "aggression_worker_demographics.head()"
   ]
  },
  {
   "cell_type": "markdown",
   "metadata": {},
   "source": [
    "Finally, I load in the attack datasets."
   ]
  },
  {
   "cell_type": "code",
   "execution_count": 2,
   "metadata": {},
   "outputs": [],
   "source": [
    "attack_annotations = pd.read_csv(\"attack/attack_annotations.tsv\", delimiter=\"\\t\")\n",
    "attack_annotated_comments = pd.read_csv(\"attack/attack_annotated_comments.tsv\", delimiter=\"\\t\")\n",
    "attack_worker_demographics = pd.read_csv(\"attack/attack_worker_demographics.tsv\", delimiter=\"\\t\")"
   ]
  },
  {
   "cell_type": "markdown",
   "metadata": {},
   "source": [
    "__attack_annotations__:\n",
    "- `rev_id`: revision id of the edit that added the comment to a talk page\n",
    "- `worker_id`: Crowdflower worker id.\n",
    "- `quoting_attack`: whether or not the worker thought the comment was quoting or reporting a personal attack that originated in a different comment\n",
    "- `recipient_attack`: whether or not the worker thought the comment contained a personal attack directed at the recipient\n",
    "- `third_party_attack`: whether or not the worker thought the comment contained a personal attack directed at a third party\n",
    "- `other_attack`: whether or not the worker thought the comment contained a personal attack but was not a quoting attack, a recipient attack or a third party attack.\n",
    "- `attack`: whether or not the worker thought the comment contained a personal attack. Value is 0 if the worker selected \"This is not an attack or harassment\" and 1 otherwise"
   ]
  },
  {
   "cell_type": "code",
   "execution_count": 11,
   "metadata": {},
   "outputs": [
    {
     "data": {
      "text/html": [
       "<div>\n",
       "<style scoped>\n",
       "    .dataframe tbody tr th:only-of-type {\n",
       "        vertical-align: middle;\n",
       "    }\n",
       "\n",
       "    .dataframe tbody tr th {\n",
       "        vertical-align: top;\n",
       "    }\n",
       "\n",
       "    .dataframe thead th {\n",
       "        text-align: right;\n",
       "    }\n",
       "</style>\n",
       "<table border=\"1\" class=\"dataframe\">\n",
       "  <thead>\n",
       "    <tr style=\"text-align: right;\">\n",
       "      <th></th>\n",
       "      <th>rev_id</th>\n",
       "      <th>worker_id</th>\n",
       "      <th>quoting_attack</th>\n",
       "      <th>recipient_attack</th>\n",
       "      <th>third_party_attack</th>\n",
       "      <th>other_attack</th>\n",
       "      <th>attack</th>\n",
       "    </tr>\n",
       "  </thead>\n",
       "  <tbody>\n",
       "    <tr>\n",
       "      <th>0</th>\n",
       "      <td>37675</td>\n",
       "      <td>1362</td>\n",
       "      <td>0.0</td>\n",
       "      <td>0.0</td>\n",
       "      <td>0.0</td>\n",
       "      <td>0.0</td>\n",
       "      <td>0.0</td>\n",
       "    </tr>\n",
       "    <tr>\n",
       "      <th>1</th>\n",
       "      <td>37675</td>\n",
       "      <td>2408</td>\n",
       "      <td>0.0</td>\n",
       "      <td>0.0</td>\n",
       "      <td>0.0</td>\n",
       "      <td>0.0</td>\n",
       "      <td>0.0</td>\n",
       "    </tr>\n",
       "    <tr>\n",
       "      <th>2</th>\n",
       "      <td>37675</td>\n",
       "      <td>1493</td>\n",
       "      <td>0.0</td>\n",
       "      <td>0.0</td>\n",
       "      <td>0.0</td>\n",
       "      <td>0.0</td>\n",
       "      <td>0.0</td>\n",
       "    </tr>\n",
       "    <tr>\n",
       "      <th>3</th>\n",
       "      <td>37675</td>\n",
       "      <td>1439</td>\n",
       "      <td>0.0</td>\n",
       "      <td>0.0</td>\n",
       "      <td>0.0</td>\n",
       "      <td>0.0</td>\n",
       "      <td>0.0</td>\n",
       "    </tr>\n",
       "    <tr>\n",
       "      <th>4</th>\n",
       "      <td>37675</td>\n",
       "      <td>170</td>\n",
       "      <td>0.0</td>\n",
       "      <td>0.0</td>\n",
       "      <td>0.0</td>\n",
       "      <td>0.0</td>\n",
       "      <td>0.0</td>\n",
       "    </tr>\n",
       "  </tbody>\n",
       "</table>\n",
       "</div>"
      ],
      "text/plain": [
       "   rev_id  worker_id  quoting_attack  recipient_attack  third_party_attack  \\\n",
       "0   37675       1362             0.0               0.0                 0.0   \n",
       "1   37675       2408             0.0               0.0                 0.0   \n",
       "2   37675       1493             0.0               0.0                 0.0   \n",
       "3   37675       1439             0.0               0.0                 0.0   \n",
       "4   37675        170             0.0               0.0                 0.0   \n",
       "\n",
       "   other_attack  attack  \n",
       "0           0.0     0.0  \n",
       "1           0.0     0.0  \n",
       "2           0.0     0.0  \n",
       "3           0.0     0.0  \n",
       "4           0.0     0.0  "
      ]
     },
     "execution_count": 11,
     "metadata": {},
     "output_type": "execute_result"
    }
   ],
   "source": [
    "attack_annotations.head()"
   ]
  },
  {
   "cell_type": "markdown",
   "metadata": {},
   "source": [
    "__attack_annotated_comments__:\n",
    "- `rev_id`: revision id of the edit that added the comment to a talk page\n",
    "- `comment`: the comment\n",
    "- `year`: year the comment was posted\n",
    "- `logged_in`: whether or not the user who made the comment was logged in\n",
    "- `ns`: namespace of the discussion page the comment was posted in\n",
    "- `sample`: whether the comment came from random sampling of all comments or whether it came from random sampling of the 5 comments around a block\n",
    "- `split`: train, dev or test dataset"
   ]
  },
  {
   "cell_type": "code",
   "execution_count": 12,
   "metadata": {},
   "outputs": [
    {
     "data": {
      "text/html": [
       "<div>\n",
       "<style scoped>\n",
       "    .dataframe tbody tr th:only-of-type {\n",
       "        vertical-align: middle;\n",
       "    }\n",
       "\n",
       "    .dataframe tbody tr th {\n",
       "        vertical-align: top;\n",
       "    }\n",
       "\n",
       "    .dataframe thead th {\n",
       "        text-align: right;\n",
       "    }\n",
       "</style>\n",
       "<table border=\"1\" class=\"dataframe\">\n",
       "  <thead>\n",
       "    <tr style=\"text-align: right;\">\n",
       "      <th></th>\n",
       "      <th>rev_id</th>\n",
       "      <th>comment</th>\n",
       "      <th>year</th>\n",
       "      <th>logged_in</th>\n",
       "      <th>ns</th>\n",
       "      <th>sample</th>\n",
       "      <th>split</th>\n",
       "    </tr>\n",
       "  </thead>\n",
       "  <tbody>\n",
       "    <tr>\n",
       "      <th>0</th>\n",
       "      <td>37675</td>\n",
       "      <td>`-NEWLINE_TOKENThis is not ``creative``.  Thos...</td>\n",
       "      <td>2002</td>\n",
       "      <td>False</td>\n",
       "      <td>article</td>\n",
       "      <td>random</td>\n",
       "      <td>train</td>\n",
       "    </tr>\n",
       "    <tr>\n",
       "      <th>1</th>\n",
       "      <td>44816</td>\n",
       "      <td>`NEWLINE_TOKENNEWLINE_TOKEN:: the term ``stand...</td>\n",
       "      <td>2002</td>\n",
       "      <td>False</td>\n",
       "      <td>article</td>\n",
       "      <td>random</td>\n",
       "      <td>train</td>\n",
       "    </tr>\n",
       "    <tr>\n",
       "      <th>2</th>\n",
       "      <td>49851</td>\n",
       "      <td>NEWLINE_TOKENNEWLINE_TOKENTrue or false, the s...</td>\n",
       "      <td>2002</td>\n",
       "      <td>False</td>\n",
       "      <td>article</td>\n",
       "      <td>random</td>\n",
       "      <td>train</td>\n",
       "    </tr>\n",
       "    <tr>\n",
       "      <th>3</th>\n",
       "      <td>89320</td>\n",
       "      <td>Next, maybe you could work on being less cond...</td>\n",
       "      <td>2002</td>\n",
       "      <td>True</td>\n",
       "      <td>article</td>\n",
       "      <td>random</td>\n",
       "      <td>dev</td>\n",
       "    </tr>\n",
       "    <tr>\n",
       "      <th>4</th>\n",
       "      <td>93890</td>\n",
       "      <td>This page will need disambiguation.</td>\n",
       "      <td>2002</td>\n",
       "      <td>True</td>\n",
       "      <td>article</td>\n",
       "      <td>random</td>\n",
       "      <td>train</td>\n",
       "    </tr>\n",
       "  </tbody>\n",
       "</table>\n",
       "</div>"
      ],
      "text/plain": [
       "   rev_id                                            comment  year  logged_in  \\\n",
       "0   37675  `-NEWLINE_TOKENThis is not ``creative``.  Thos...  2002      False   \n",
       "1   44816  `NEWLINE_TOKENNEWLINE_TOKEN:: the term ``stand...  2002      False   \n",
       "2   49851  NEWLINE_TOKENNEWLINE_TOKENTrue or false, the s...  2002      False   \n",
       "3   89320   Next, maybe you could work on being less cond...  2002       True   \n",
       "4   93890               This page will need disambiguation.   2002       True   \n",
       "\n",
       "        ns  sample  split  \n",
       "0  article  random  train  \n",
       "1  article  random  train  \n",
       "2  article  random  train  \n",
       "3  article  random    dev  \n",
       "4  article  random  train  "
      ]
     },
     "execution_count": 12,
     "metadata": {},
     "output_type": "execute_result"
    }
   ],
   "source": [
    "attack_annotated_comments.head()"
   ]
  },
  {
   "cell_type": "markdown",
   "metadata": {},
   "source": [
    "__attack_worker_demographics__:\n",
    "- `worker_id`: Crowdflower worker id\n",
    "- `gender`: worker gender\n",
    "- `english_first_language`: whether or not English is the worker's first language\n",
    "- `age_group`: age group of the worker ('Under 18', '18-30', '30-45', '45-60', 'Over 60')\n",
    "- `education`: highest education level obtained by the worker ('none', 'some', 'hs', 'bachelors', 'masters', 'doctorate', 'professional')"
   ]
  },
  {
   "cell_type": "code",
   "execution_count": 13,
   "metadata": {},
   "outputs": [
    {
     "data": {
      "text/html": [
       "<div>\n",
       "<style scoped>\n",
       "    .dataframe tbody tr th:only-of-type {\n",
       "        vertical-align: middle;\n",
       "    }\n",
       "\n",
       "    .dataframe tbody tr th {\n",
       "        vertical-align: top;\n",
       "    }\n",
       "\n",
       "    .dataframe thead th {\n",
       "        text-align: right;\n",
       "    }\n",
       "</style>\n",
       "<table border=\"1\" class=\"dataframe\">\n",
       "  <thead>\n",
       "    <tr style=\"text-align: right;\">\n",
       "      <th></th>\n",
       "      <th>worker_id</th>\n",
       "      <th>gender</th>\n",
       "      <th>english_first_language</th>\n",
       "      <th>age_group</th>\n",
       "      <th>education</th>\n",
       "    </tr>\n",
       "  </thead>\n",
       "  <tbody>\n",
       "    <tr>\n",
       "      <th>0</th>\n",
       "      <td>833</td>\n",
       "      <td>female</td>\n",
       "      <td>0</td>\n",
       "      <td>45-60</td>\n",
       "      <td>bachelors</td>\n",
       "    </tr>\n",
       "    <tr>\n",
       "      <th>1</th>\n",
       "      <td>1072</td>\n",
       "      <td>male</td>\n",
       "      <td>0</td>\n",
       "      <td>30-45</td>\n",
       "      <td>bachelors</td>\n",
       "    </tr>\n",
       "    <tr>\n",
       "      <th>2</th>\n",
       "      <td>872</td>\n",
       "      <td>male</td>\n",
       "      <td>0</td>\n",
       "      <td>18-30</td>\n",
       "      <td>hs</td>\n",
       "    </tr>\n",
       "    <tr>\n",
       "      <th>3</th>\n",
       "      <td>2116</td>\n",
       "      <td>male</td>\n",
       "      <td>0</td>\n",
       "      <td>30-45</td>\n",
       "      <td>professional</td>\n",
       "    </tr>\n",
       "    <tr>\n",
       "      <th>4</th>\n",
       "      <td>453</td>\n",
       "      <td>male</td>\n",
       "      <td>0</td>\n",
       "      <td>30-45</td>\n",
       "      <td>hs</td>\n",
       "    </tr>\n",
       "  </tbody>\n",
       "</table>\n",
       "</div>"
      ],
      "text/plain": [
       "   worker_id  gender  english_first_language age_group     education\n",
       "0        833  female                       0     45-60     bachelors\n",
       "1       1072    male                       0     30-45     bachelors\n",
       "2        872    male                       0     18-30            hs\n",
       "3       2116    male                       0     30-45  professional\n",
       "4        453    male                       0     30-45            hs"
      ]
     },
     "execution_count": 13,
     "metadata": {},
     "output_type": "execute_result"
    }
   ],
   "source": [
    "attack_worker_demographics.head()"
   ]
  },
  {
   "cell_type": "markdown",
   "metadata": {},
   "source": [
    "### Analyze Toxicity Crowdflower Worker Demographics"
   ]
  },
  {
   "cell_type": "markdown",
   "metadata": {},
   "source": [
    "Focusing on the Toxicity data, the first thing I am interested in looking at is the demographics of the Crowdflower workers who annotated this data. I want to know - how similar are the crowd-workers to the Wikipedia editor population, and could this demographic of crowd-workers introduce bias?"
   ]
  },
  {
   "cell_type": "markdown",
   "metadata": {},
   "source": [
    "According to [Wikipedia](https://en.wikipedia.org/wiki/Wikipedia:Who_writes_Wikipedia%3F#:~:text=28%25%20editors%20are%20aged%2040%2B.&text=59%25%20of%20the%20editors%20are%20aged%2017%20to%2040.&text=The%20English%20Wikipedia%20currently%20has,contributors%20participate%20in%20community%20discussions.), English Wikipedia currently has \"40,116,350 users who have a registered username\". However, \"only a minority of users contribute regularly (132,509 have edited in the last 30 days), and only a minority of those contributors participate in community discussions\". Wikipedia also allows unregistered users to contribute to the site."
   ]
  },
  {
   "cell_type": "markdown",
   "metadata": {},
   "source": [
    "According the [Wikipedia's Gender Database Reports](https://en.wikipedia.org/wiki/Wikipedia:Database_reports/User_preferences#Gender) from July 1, 2019, 116069 users identified as female, 576657 users identified as male, and 35944325 did not specify their gender identity. This information does not tell us very much as most of the users did not specify their gender. Below, I calculate the percentage of users who identified as female or male and the total number of users."
   ]
  },
  {
   "cell_type": "code",
   "execution_count": 14,
   "metadata": {},
   "outputs": [
    {
     "name": "stdout",
     "output_type": "stream",
     "text": [
      "Total number of users identified on July 1, 2019: 36637051\n",
      "Percentage of users who identified as female on July 1, 2019: 0.32%\n",
      "Percentage of users who identified as male on July 1, 2019: 1.57%\n"
     ]
    }
   ],
   "source": [
    "f = 116069\n",
    "m = 576657\n",
    "unknown = 35944325\n",
    "total = f + m + unknown\n",
    "print('Total number of users identified on July 1, 2019:', total)\n",
    "print('Percentage of users who identified as female on July 1, 2019:', str(round((f/total)*100, 2))+'%')\n",
    "print('Percentage of users who identified as male on July 1, 2019:', str(round((m/total)*100, 2))+'%')"
   ]
  },
  {
   "cell_type": "markdown",
   "metadata": {},
   "source": [
    "While the numbers provided by Wikipedia don't tell us very much about the actual population of editors, they state that most of their contributors are male. A survey that was done found that 13% of editors were women and 87% of editors were men. A follow-up [study](https://journals.plos.org/plosone/article/file?id=10.1371/journal.pone.0065782&type=printable) done to assess the gender gap on Wikipedia suggested that the total proportion of US female editors was 22.7% and the total proportion of female editors was 16.1%. Keep in mind that there are certain limitations in these including the fact that it used an opt-in survey.\n",
    "\n",
    "Here, with this histogram, we see that the crowd-workers who identify as male outweigh the crowd-workers who identify as female."
   ]
  },
  {
   "cell_type": "code",
   "execution_count": 20,
   "metadata": {},
   "outputs": [
    {
     "data": {
      "image/png": "[encoded data removed]",
      "text/plain": [
       "<Figure size 1080x432 with 1 Axes>"
      ]
     },
     "metadata": {
      "needs_background": "light"
     },
     "output_type": "display_data"
    }
   ],
   "source": [
    "# Gender distribution of Crowdflower workers\n",
    "fig, ax = plt.subplots(figsize=(15,6))\n",
    "ax.set(xlabel='Gender', ylabel='Count', title=\"Toxicity Crowdflower Worker Gender Distribution\")\n",
    "sns.histplot(x=\"gender\", data=toxicity_worker_demographics, discrete=True, ax=ax, color='cornflowerblue')\n",
    "fig.savefig('visuals/toxicity_gender_dist.png', bbox_inches='tight')"
   ]
  },
  {
   "cell_type": "markdown",
   "metadata": {},
   "source": [
    "Taking a look at the percentage of male, female, and other identifying crowd-workers, we see that roughly 65% of crowd-workers identified as male while roughly 35% of crowdworkers identified as female. There are definitely still more male crowdworkers, but the gender distribution is slightly more even compared the analysis Wikipedia did based on surveys. I don't think we can say too much about how these groups actually compare as most of the editors on Wikipedia have not provided their genders. However, I do wonder if having an equal amount of workers representing all gender identities might be a good idea. It may not be representative of the actual population of editors, but some people might not even realize the language they are using is offensive to a specific gender or group of people. Identifying and changing that might help to close the gender gap among Wikipedia editors. "
   ]
  },
  {
   "cell_type": "code",
   "execution_count": 3,
   "metadata": {},
   "outputs": [
    {
     "data": {
      "text/plain": [
       "male      0.648009\n",
       "female    0.351713\n",
       "other     0.000278\n",
       "Name: gender, dtype: float64"
      ]
     },
     "execution_count": 3,
     "metadata": {},
     "output_type": "execute_result"
    }
   ],
   "source": [
    "toxicity_worker_demographics['gender'].value_counts()/len(toxicity_worker_demographics)"
   ]
  },
  {
   "cell_type": "markdown",
   "metadata": {},
   "source": [
    "[Wikipedia](https://en.wikipedia.org/wiki/Wikipedia:Who_writes_Wikipedia%3F#:~:text=28%25%20editors%20are%20aged%2040%2B.&text=59%25%20of%20the%20editors%20are%20aged%2017%20to%2040.&text=The%20English%20Wikipedia%20currently%20has,contributors%20participate%20in%20community%20discussions.) also states that 13% of their editors are under 17 years old, 14% are 18-21, 26% are 22-29, 19% are 30-39, and 28% are 40+ . They found that 59% of the editors are 17-40. This information comes from a questionnaire that was done in 2011 by over 5000 logged on Wikipedia editors.\n",
    "\n",
    "I want to take a look at the distribution of age among crowd-workers with a histogram. Note that 77 of the age values were NA. In this histogram we see that an overwhelming amount of crowdworkers belong to the 18-30 group, the second largest group being 30-45."
   ]
  },
  {
   "cell_type": "code",
   "execution_count": 5,
   "metadata": {},
   "outputs": [
    {
     "name": "stdout",
     "output_type": "stream",
     "text": [
      "Number of workers missing age values: 77\n"
     ]
    }
   ],
   "source": [
    "print('Number of workers missing age values:', len(toxicity_worker_demographics) - len(toxicity_worker_demographics.dropna()))"
   ]
  },
  {
   "cell_type": "code",
   "execution_count": 21,
   "metadata": {},
   "outputs": [
    {
     "data": {
      "image/png": "[encoded data removed]",
      "text/plain": [
       "<Figure size 1080x432 with 1 Axes>"
      ]
     },
     "metadata": {
      "needs_background": "light"
     },
     "output_type": "display_data"
    }
   ],
   "source": [
    "# Age distribution of Crowdflower workers\n",
    "fig, ax = plt.subplots(figsize=(15,6))\n",
    "ax.set(xlabel='Age Group', ylabel='Count', title=\"Toxicity Crowdflower Worker Age Distribution (77 Workers did not identify their age group)\")\n",
    "sns.countplot(x=\"age_group\", data=toxicity_worker_demographics.dropna(), ax=ax, order=['Under 18', '18-30', '30-45', '45-60', 'Over 60'], color='cornflowerblue')\n",
    "fig.savefig('visuals/toxicity_age_dist.png', bbox_inches='tight')"
   ]
  },
  {
   "cell_type": "markdown",
   "metadata": {},
   "source": [
    "Looking at the percentages, I can see that around 53% of workers are in the 18-30 age range which is close to the 59% Wikipedia mentioned for their 17-40 age range. If I add this 53% to the 35% for the 30-45 age range, we would be way over that 59%. Since we don't have the actual age breakdowns, we can't match the age ranges between the two datasets. I think that the 17-40 population of crowd-workers would be a much higher percentage than the editors Wikipedia identified. However the majority of the ages cluster around the same area so it's pretty close to Wikipedia's population based on their reports."
   ]
  },
  {
   "cell_type": "code",
   "execution_count": 9,
   "metadata": {},
   "outputs": [
    {
     "data": {
      "text/plain": [
       "18-30       0.529880\n",
       "30-45       0.354866\n",
       "45-60       0.084234\n",
       "Under 18    0.022482\n",
       "Over 60     0.008537\n",
       "Name: age_group, dtype: float64"
      ]
     },
     "execution_count": 9,
     "metadata": {},
     "output_type": "execute_result"
    }
   ],
   "source": [
    "toxicity_worker_demographics['age_group'].dropna().value_counts()/len(toxicity_worker_demographics['age_group'].dropna())"
   ]
  },
  {
   "cell_type": "markdown",
   "metadata": {},
   "source": [
    "The same questionnaire from the previous age breakdown found that 9% of editors got to primary school, 30% got to secondary school, 35% got to an undergraduate degree, 28% got to a masters, and 8% got to a PhD. The same survey from the gender breakdown found that 11% of editors got to primary school, 34% got to secondary, 26% got to an undergraduate degree, 18% got to a masters, 4% got to a PhD, and 6% reported \"other\".\n",
    "\n",
    "The histogram below quickly visualizes the education breakdown for the crowd-workers. Bachelors degree had the most people and high school had the second most."
   ]
  },
  {
   "cell_type": "code",
   "execution_count": 23,
   "metadata": {},
   "outputs": [
    {
     "data": {
      "image/png": "[encoded data removed]",
      "text/plain": [
       "<Figure size 1080x432 with 1 Axes>"
      ]
     },
     "metadata": {
      "needs_background": "light"
     },
     "output_type": "display_data"
    }
   ],
   "source": [
    "# Education distribution of Crowdflower workers\n",
    "fig, ax = plt.subplots(figsize=(15,6))\n",
    "ax.set(xlabel='Education Level', ylabel='Count', title=\"Toxicity Crowdflower Worker Education Distribution\")\n",
    "sns.countplot(x=\"education\", data=toxicity_worker_demographics, ax=ax, order=['none', 'some', 'hs', 'bachelors', 'masters', 'doctorate', 'professional education'], color='cornflowerblue')\n",
    "fig.savefig('visuals/toxicity_edu_dist.png', bbox_inches='tight')"
   ]
  },
  {
   "cell_type": "markdown",
   "metadata": {},
   "source": [
    "Breaking down the percentages, I can see that the bachelor's, high school, and PhD percentages are closer to the questionnaire values. They're not the same but they're close."
   ]
  },
  {
   "cell_type": "code",
   "execution_count": 10,
   "metadata": {},
   "outputs": [
    {
     "data": {
      "text/plain": [
       "bachelors       0.401281\n",
       "hs              0.285714\n",
       "masters         0.152047\n",
       "professional    0.122807\n",
       "some            0.025898\n",
       "doctorate       0.011417\n",
       "none            0.000835\n",
       "Name: education, dtype: float64"
      ]
     },
     "execution_count": 10,
     "metadata": {},
     "output_type": "execute_result"
    }
   ],
   "source": [
    "toxicity_worker_demographics['education'].value_counts()/len(toxicity_worker_demographics)"
   ]
  },
  {
   "cell_type": "markdown",
   "metadata": {},
   "source": [
    "Overall, I think that there is some bias here in that all populations are not equally represented. People from different backgrounds will likely notice different things or find different comments toxic. Having people who are able to bring in their perspectives and point out toxic comments will help others understand what is appropriate and respectful to say to people online. If too many people from one population are represented, the model that uses this training data will likely be skewed towards whatever that group finds toxic. This could lead to it ignoring what other groups find toxic and might accidentally silence people from other groups who have a different way of speaking. In order to mitigate these issues, there should be equal crowd-worker representation from all the different demographic groups."
   ]
  },
  {
   "cell_type": "markdown",
   "metadata": {},
   "source": [
    "### Analyze Words Associated with Aggression, Toxicity, Personal Attack\n",
    "\n",
    "The next question I'm interested in is: Which words appear most frequently in each of the three datasets? I want to know which words or most commonly associated with comments labeled \"toxic\", \"aggression\", and  \"attack\" to see if they are words I would personally consider hostile, and if these words are a good way to assess hostle language. "
   ]
  },
  {
   "cell_type": "markdown",
   "metadata": {},
   "source": [
    "First, I'm creating a function called `clean_comments` that takes in a pandas dataframe column and removes the \"NEWLINE_TOKEN\" and \"TAB_TOKEN\" values from the comments. It also removes special characters and extra spaces and converts everything to lowercase. The new comments column is then returned. This will help with isolating and grouping words later."
   ]
  },
  {
   "cell_type": "code",
   "execution_count": 3,
   "metadata": {},
   "outputs": [],
   "source": [
    "def clean_comments(comment_col):\n",
    "    comment_col = comment_col.str.replace('NEWLINE_TOKEN', ' ')\n",
    "    comment_col = comment_col.str.replace('TAB_TOKEN', ' ')\n",
    "    comment_col = comment_col.str.replace(r'[^a-zA-Z0-9 ]', '')\n",
    "    comment_col = comment_col.str.replace(r'\\.', ' ')\n",
    "    comment_col = comment_col.str.replace(r'\\s{2,}', ' ')\n",
    "    comment_col = comment_col.str.lower()\n",
    "    comment_col = comment_col.str.strip()\n",
    "    return comment_col"
   ]
  },
  {
   "cell_type": "markdown",
   "metadata": {},
   "source": [
    "Next, I'm applying the `clean_comments` function I just created to the toxicity comments and adding the cleaned comments to a column to the `toxicity_annotated_comments` dataframe."
   ]
  },
  {
   "cell_type": "code",
   "execution_count": 4,
   "metadata": {},
   "outputs": [],
   "source": [
    "clean = clean_comments(toxicity_annotated_comments['comment'])\n",
    "toxicity_annotated_comments = toxicity_annotated_comments.assign(clean_comments=clean)"
   ]
  },
  {
   "cell_type": "markdown",
   "metadata": {},
   "source": [
    "I'm going to join the `toxicity_annotated_comments` dataframe to the `toxicity_annotations` dataframe using the `rev_id` value. This will help us identify the comments that were labeled \"toxic\"."
   ]
  },
  {
   "cell_type": "code",
   "execution_count": 5,
   "metadata": {},
   "outputs": [],
   "source": [
    "joined = pd.merge(toxicity_annotated_comments, toxicity_annotations, on=\"rev_id\")"
   ]
  },
  {
   "cell_type": "markdown",
   "metadata": {},
   "source": [
    "In order to perform analysis on the toxic comments, I'm going to isolate the comments that were labeled as \"toxic\" by crowd-workers."
   ]
  },
  {
   "cell_type": "code",
   "execution_count": 6,
   "metadata": {},
   "outputs": [],
   "source": [
    "toxic = joined.loc[joined['toxicity']==1]"
   ]
  },
  {
   "cell_type": "markdown",
   "metadata": {},
   "source": [
    "In order to remove some common English words that will be of little value to our analysis, I'm going to import NLTK's english stop words. I'm also going to import a lemmatizer to help group words that are all technically the same word, but in different forms."
   ]
  },
  {
   "cell_type": "code",
   "execution_count": 4,
   "metadata": {},
   "outputs": [
    {
     "name": "stderr",
     "output_type": "stream",
     "text": [
      "[nltk_data] Downloading package stopwords to /home/jovyan/nltk_data...\n",
      "[nltk_data]   Package stopwords is already up-to-date!\n",
      "[nltk_data] Downloading package wordnet to /home/jovyan/nltk_data...\n",
      "[nltk_data]   Package wordnet is already up-to-date!\n"
     ]
    }
   ],
   "source": [
    "import nltk\n",
    "nltk.download('stopwords')\n",
    "from nltk.corpus import stopwords\n",
    "stop_words = set(stopwords.words('english'))\n",
    "\n",
    "from nltk.stem import WordNetLemmatizer \n",
    "nltk.download('wordnet')\n",
    "lemmatizer = WordNetLemmatizer()"
   ]
  },
  {
   "cell_type": "markdown",
   "metadata": {},
   "source": [
    "Now, I'm going to split all the comments into separate words and lemmatize and remove stop words."
   ]
  },
  {
   "cell_type": "code",
   "execution_count": 8,
   "metadata": {},
   "outputs": [
    {
     "name": "stderr",
     "output_type": "stream",
     "text": [
      "/opt/conda/lib/python3.7/site-packages/ipykernel_launcher.py:1: SettingWithCopyWarning: \n",
      "A value is trying to be set on a copy of a slice from a DataFrame.\n",
      "Try using .loc[row_indexer,col_indexer] = value instead\n",
      "\n",
      "See the caveats in the documentation: https://pandas.pydata.org/pandas-docs/stable/user_guide/indexing.html#returning-a-view-versus-a-copy\n",
      "  \"\"\"Entry point for launching an IPython kernel.\n",
      "/opt/conda/lib/python3.7/site-packages/ipykernel_launcher.py:2: SettingWithCopyWarning: \n",
      "A value is trying to be set on a copy of a slice from a DataFrame.\n",
      "Try using .loc[row_indexer,col_indexer] = value instead\n",
      "\n",
      "See the caveats in the documentation: https://pandas.pydata.org/pandas-docs/stable/user_guide/indexing.html#returning-a-view-versus-a-copy\n",
      "  \n"
     ]
    }
   ],
   "source": [
    "toxic['clean_comments'] = toxic['clean_comments'].str.split()\n",
    "toxic['clean_comments'] = toxic['clean_comments'].apply(lambda c: [lemmatizer.lemmatize(w) for w in c if w not in stop_words])"
   ]
  },
  {
   "cell_type": "markdown",
   "metadata": {},
   "source": [
    "Finally, I want to count up the occurrences of each word that appears in the \"toxic\" comments. Counter will help me do this and chain will help me look at all the comments at once."
   ]
  },
  {
   "cell_type": "code",
   "execution_count": 5,
   "metadata": {},
   "outputs": [],
   "source": [
    "from collections import Counter\n",
    "from itertools import chain\n",
    "\n",
    "count = Counter(chain.from_iterable(toxic['clean_comments'])) "
   ]
  },
  {
   "cell_type": "markdown",
   "metadata": {},
   "source": [
    "I want to take a look at the most frequently used words in \"toxic\" comments, so I'm going to visualize the top 50 in a chart. A lot of these words seem to be expletives or words you can imagine hearing in an insult (e.g. fat, die). Some of these words seem pretty neutral (e.g. wikipedia, like, page) but they could've been surrounded by other words that made the comment as a whole, \"toxic\"."
   ]
  },
  {
   "cell_type": "code",
   "execution_count": 17,
   "metadata": {},
   "outputs": [
    {
     "data": {
      "image/png": "[encoded data removed]",
      "text/plain": [
       "<Figure size 1080x1008 with 1 Axes>"
      ]
     },
     "metadata": {
      "needs_background": "light"
     },
     "output_type": "display_data"
    }
   ],
   "source": [
    "top_50_toxic = count.most_common()[0:50]\n",
    "top_50_toxic = pd.DataFrame(top_50_toxic, columns=['word', 'count'])\n",
    "top_50_toxic.to_csv('output_data/top_50_toxic.csv', index=False)\n",
    "fig, ax = plt.subplots(figsize=(15,14))\n",
    "ax.set(xlabel='Count', ylabel='Word', title=\"Toxicity Word Frequency\")\n",
    "sns.barplot(x='count', y='word', data=top_50_toxic, palette='Blues_r')\n",
    "fig.savefig('visuals/toxicity_word_freqency.png', bbox_inches='tight')"
   ]
  },
  {
   "cell_type": "markdown",
   "metadata": {},
   "source": [
    "Doing the exact same analysis for the aggression dataset yields similar results. I see a lot of the same expletives. There are a few more inappropriate words here, but it's still pretty similar to the toxicity words."
   ]
  },
  {
   "cell_type": "code",
   "execution_count": 7,
   "metadata": {},
   "outputs": [
    {
     "name": "stderr",
     "output_type": "stream",
     "text": [
      "/opt/conda/lib/python3.7/site-packages/ipykernel_launcher.py:5: SettingWithCopyWarning: \n",
      "A value is trying to be set on a copy of a slice from a DataFrame.\n",
      "Try using .loc[row_indexer,col_indexer] = value instead\n",
      "\n",
      "See the caveats in the documentation: https://pandas.pydata.org/pandas-docs/stable/user_guide/indexing.html#returning-a-view-versus-a-copy\n",
      "  \"\"\"\n",
      "/opt/conda/lib/python3.7/site-packages/ipykernel_launcher.py:6: SettingWithCopyWarning: \n",
      "A value is trying to be set on a copy of a slice from a DataFrame.\n",
      "Try using .loc[row_indexer,col_indexer] = value instead\n",
      "\n",
      "See the caveats in the documentation: https://pandas.pydata.org/pandas-docs/stable/user_guide/indexing.html#returning-a-view-versus-a-copy\n",
      "  \n"
     ]
    },
    {
     "data": {
      "image/png": "[encoded data removed]",
      "text/plain": [
       "<Figure size 1080x1008 with 1 Axes>"
      ]
     },
     "metadata": {
      "needs_background": "light"
     },
     "output_type": "display_data"
    }
   ],
   "source": [
    "clean = clean_comments(aggression_annotated_comments['comment'])\n",
    "aggression_annotated_comments = aggression_annotated_comments.assign(clean_comments=clean)\n",
    "joined = pd.merge(aggression_annotated_comments, aggression_annotations, on=\"rev_id\")\n",
    "aggression = joined.loc[joined['aggression']==1]\n",
    "aggression['clean_comments'] = aggression['clean_comments'].str.split()\n",
    "aggression['clean_comments'] = aggression['clean_comments'].apply(lambda c: [lemmatizer.lemmatize(w) for w in c if w not in stop_words])\n",
    "count = Counter(chain.from_iterable(aggression['clean_comments']))\n",
    "\n",
    "top_50_aggression = count.most_common()[0:50]\n",
    "top_50_aggression = pd.DataFrame(top_50_aggression, columns=['word', 'count'])\n",
    "top_50_aggression.to_csv('output_data/top_50_aggression.csv', index=False)\n",
    "\n",
    "fig, ax = plt.subplots(figsize=(15,14))\n",
    "ax.set(xlabel='Count', ylabel='Word', title=\"Aggression Word Frequency\")\n",
    "sns.barplot(x='count', y='word', data=top_50_aggression, palette='Blues_r')\n",
    "fig.savefig('visuals/aggression_word_freqency.png', bbox_inches='tight')"
   ]
  },
  {
   "cell_type": "markdown",
   "metadata": {},
   "source": [
    "Finally, the personal attacks dataset, yields similar results to the other two. We see some expletives and words that could easily fit into a comment that could be considered offensive or attacking. We also see some words that seem neutral but could easily be a part of a hostile comment."
   ]
  },
  {
   "cell_type": "code",
   "execution_count": 6,
   "metadata": {},
   "outputs": [
    {
     "name": "stderr",
     "output_type": "stream",
     "text": [
      "/opt/conda/lib/python3.7/site-packages/ipykernel_launcher.py:5: SettingWithCopyWarning: \n",
      "A value is trying to be set on a copy of a slice from a DataFrame.\n",
      "Try using .loc[row_indexer,col_indexer] = value instead\n",
      "\n",
      "See the caveats in the documentation: https://pandas.pydata.org/pandas-docs/stable/user_guide/indexing.html#returning-a-view-versus-a-copy\n",
      "  \"\"\"\n",
      "/opt/conda/lib/python3.7/site-packages/ipykernel_launcher.py:6: SettingWithCopyWarning: \n",
      "A value is trying to be set on a copy of a slice from a DataFrame.\n",
      "Try using .loc[row_indexer,col_indexer] = value instead\n",
      "\n",
      "See the caveats in the documentation: https://pandas.pydata.org/pandas-docs/stable/user_guide/indexing.html#returning-a-view-versus-a-copy\n",
      "  \n"
     ]
    },
    {
     "data": {
      "image/png": "[encoded data removed]",
      "text/plain": [
       "<Figure size 1080x1008 with 1 Axes>"
      ]
     },
     "metadata": {
      "needs_background": "light"
     },
     "output_type": "display_data"
    }
   ],
   "source": [
    "clean = clean_comments(attack_annotated_comments['comment'])\n",
    "attack_annotated_comments = attack_annotated_comments.assign(clean_comments=clean)\n",
    "joined = pd.merge(attack_annotated_comments, attack_annotations, on=\"rev_id\")\n",
    "attack = joined.loc[joined['attack']==1]\n",
    "attack['clean_comments'] = attack['clean_comments'].str.split()\n",
    "attack['clean_comments'] = attack['clean_comments'].apply(lambda c: [lemmatizer.lemmatize(w) for w in c if w not in stop_words])\n",
    "count = Counter(chain.from_iterable(attack['clean_comments'])) \n",
    "\n",
    "top_50_attack = count.most_common()[0:50]\n",
    "top_50_attack = pd.DataFrame(top_50_attack, columns=['word', 'count'])\n",
    "top_50_attack.to_csv('output_data/top_50_attack.csv', index=False)\n",
    "\n",
    "fig, ax = plt.subplots(figsize=(15,14))\n",
    "ax.set(xlabel='Count', ylabel='Word', title=\"Personal Attacks Word Frequency\")\n",
    "sns.barplot(x='count', y='word', data=top_50_attack, palette='Blues_r')\n",
    "fig.savefig('visuals/attack_word_freqency.png', bbox_inches='tight')"
   ]
  },
  {
   "cell_type": "markdown",
   "metadata": {},
   "source": [
    "Overall, I think looking at the frequency of words in comments labeled as hostile is a way to start the exercise, but I don't think these are enough to capture hostile speech. A lot of these expletives are words I would consider hostile, but some of these other frequently used words are neutral out of context. When we only look at individual words, we lose the context and therefore have trouble understanding the true meaning behind the comment. In addition, different online forums often develop their own way of speaking or sneaking past flagging systems. For example, Reddit users have their own way of conversing and their own acronyms and Twitter users will employ different tricks to sneak past flagging algorithms. I think it's important to get a better understanding of how people on different platforms talk to each other, and it's important to look at comments as a whole so we don't lose the meaning behind them. However, looking for expletives is a simple way to start."
   ]
  },
  {
   "cell_type": "markdown",
   "metadata": {},
   "source": [
    "## Step 2: Discuss Further Implications"
   ]
  },
  {
   "cell_type": "markdown",
   "metadata": {},
   "source": [
    "Which, if any, of these demo applications would you expect the Perspective API—or any model trained on the Wikipedia Talk corpus—to perform well in? Why?\n",
    "\n",
    "> I think the WikiDetox application is more likely to perform well compared to the other applications. The data originally came from Wikipedia comments, so it's likely to do a better job of recognizing the structure of other Wikipedia comments. It might not be familiar with the stucture of text on other sites, and that would affect its ability in infer whether or not the text is hostile.\n",
    "\n",
    "Which, if any, of these demo applications would you expect the Perspective API to perform poorly in? Why?\n",
    "\n",
    "> I am skeptical about the Behave! application. It mentions that it is able to replace toxic comments on forums like Youtube and Reddit with fun emojis. The way users interact on Reddit and Youtube is different from the way editors interact on Wikipedia. I can see comments that aren't hostile being censored and comments that are hostile not being detected due to these differences.\n",
    "\n",
    "What are some other contexts or applications where you would expect the Perspective API to perform particularly well, or particularly poorly? Why?\n",
    "\n",
    "> I would expect the Perspective API to perform poorly in contexts where the language is not explicitly hostile. There are ways people can disguise their language to sound neutral when they actually have malicious intent. It might also perform poorly on comments that aren't hostile but simply look similar to the hostile text provided in the training data, because all of those comments were flagged as hostile."
   ]
  },
  {
   "cell_type": "code",
   "execution_count": null,
   "metadata": {},
   "outputs": [],
   "source": []
  }
 ],
 "metadata": {
  "kernelspec": {
   "display_name": "Python 3",
   "language": "python",
   "name": "python3"
  },
  "language_info": {
   "codemirror_mode": {
    "name": "ipython",
    "version": 3
   },
   "file_extension": ".py",
   "mimetype": "text/x-python",
   "name": "python",
   "nbconvert_exporter": "python",
   "pygments_lexer": "ipython3",
   "version": "3.7.4"
  }
 },
 "nbformat": 4,
 "nbformat_minor": 4
}
